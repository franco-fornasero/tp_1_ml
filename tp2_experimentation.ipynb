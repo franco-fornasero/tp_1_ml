{
  "nbformat": 4,
  "nbformat_minor": 0,
  "metadata": {
    "colab": {
      "provenance": []
    },
    "kernelspec": {
      "name": "python3",
      "display_name": "Python 3"
    },
    "language_info": {
      "name": "python"
    }
  },
  "cells": [
    {
      "cell_type": "code",
      "execution_count": 1,
      "metadata": {
        "colab": {
          "base_uri": "https://localhost:8080/"
        },
        "id": "U_O_yLtuxaIr",
        "outputId": "26629470-876b-4b02-c03a-d54cd7ec43ae"
      },
      "outputs": [
        {
          "output_type": "stream",
          "name": "stdout",
          "text": [
            "OK\n"
          ]
        }
      ],
      "source": [
        "import sys\n",
        "\n",
        "if sys.version_info.major == 3:\n",
        "    print('OK')\n",
        "elif sys.version_info.major == 2:\n",
        "    print('ERROR: están usando python 2, deberían usar 3')\n",
        "else:\n",
        "  \n",
        "    print('ERROR: wtf, qué versión de python es esta?')\n"
      ]
    },
    {
      "cell_type": "code",
      "source": [
        "import numpy\n",
        "import pandas as pd\n",
        "import matplotlib \n",
        "import matplotlib.pyplot as plt\n",
        "import keras\n",
        "import h5py\n",
        "import PIL\n",
        "import seaborn as sns\n",
        "import plotly\n",
        "import sklearn_pandas\n",
        "from google.colab import drive\n",
        "from sklearn_pandas import DataFrameMapper\n",
        "from sklearn.pipeline import Pipeline\n",
        "from sklearn.model_selection import train_test_split\n",
        "from sklearn.decomposition import PCA\n",
        "from sklearn.tree import DecisionTreeClassifier\n",
        "from sklearn.linear_model import LogisticRegression\n",
        "from sklearn.ensemble import RandomForestClassifier\n",
        "from sklearn.preprocessing import StandardScaler, OneHotEncoder\n",
        "from sklearn.model_selection import GridSearchCV\n",
        "from sklearn.preprocessing import LabelEncoder\n",
        "from sklearn import metrics\n",
        "from sklearn.model_selection import learning_curve\n",
        "\n",
        "\n",
        "\n",
        "drive.mount('/content/drive')\n",
        "\n",
        "print('OK (puede salir algún warning, eso no sería problema)')\n"
      ],
      "metadata": {
        "colab": {
          "base_uri": "https://localhost:8080/"
        },
        "id": "vo3mgUGlxe6d",
        "outputId": "0459edda-b6cc-4061-9a64-3128c415b39f"
      },
      "execution_count": 2,
      "outputs": [
        {
          "output_type": "stream",
          "name": "stdout",
          "text": [
            "Mounted at /content/drive\n",
            "OK (puede salir algún warning, eso no sería problema)\n"
          ]
        }
      ]
    },
    {
      "cell_type": "code",
      "source": [
        "backend = keras.backend.backend()\n",
        "\n",
        "if backend == 'tensorflow':\n",
        "    print('OK')\n",
        "else:\n",
        "    print('ERROR: el backend de keras no es tensorflow, sino', backend)"
      ],
      "metadata": {
        "id": "338Vc02QxhM9",
        "colab": {
          "base_uri": "https://localhost:8080/"
        },
        "outputId": "739953c9-a306-4004-8b92-dafee494e75a"
      },
      "execution_count": 3,
      "outputs": [
        {
          "output_type": "stream",
          "name": "stdout",
          "text": [
            "OK\n"
          ]
        }
      ]
    },
    {
      "cell_type": "markdown",
      "source": [
        "# Métricas\n",
        "\n",
        "* La métrica que elegimos es Accuracy. La misma se define como el porcentaje de predicciones correctas realizadas por el modelo sobre el total de predicciones.\n",
        "La elección de accuracy como métrica se fundamenta en que, en general, se busca predecir correctamente la victoria o derrota de un jugador en un partido de tenis. También nos brinda una medida directa de la capacidad del modelo para realizar predicciones correctas porcentualmente a los aciertos que tuvimos.\n",
        "\n"
      ],
      "metadata": {
        "id": "AlcMxs7VBmBj"
      }
    },
    {
      "cell_type": "code",
      "source": [
        "matches = pd.read_csv('/content/drive/MyDrive/machine learning/atp_matches_till_2022_mod.csv')\n",
        "#matches = pd.read_csv('/content/drive/MyDrive/Universidad/5to año/Machine Learning/atp_matches_till_2022_mod.csv')\n",
        "matches.shape"
      ],
      "metadata": {
        "id": "sc2HG2uExhp8",
        "colab": {
          "base_uri": "https://localhost:8080/"
        },
        "outputId": "5b1ee9b1-35de-4e32-d70f-2c645e83da35"
      },
      "execution_count": 4,
      "outputs": [
        {
          "output_type": "execute_result",
          "data": {
            "text/plain": [
              "(188161, 50)"
            ]
          },
          "metadata": {},
          "execution_count": 4
        }
      ]
    },
    {
      "cell_type": "markdown",
      "source": [
        "# Limpieza y acomodo de datos:\n",
        "\n",
        "Eliminamos las variables que no se van a utilizar y transformamos las que si necesitamos. Además de darle un valor a los nulos.\n",
        "\n",
        "* Surface: \n",
        "\n",
        "\n",
        "\n"
      ],
      "metadata": {
        "id": "AciSDhUNywCN"
      }
    },
    {
      "cell_type": "code",
      "source": [
        "#surface: Eliminamos los nulos ya que son pocos valores\n",
        "\n",
        "null_count = matches['surface'].isnull().sum()\n",
        "\n",
        "print(\"Número de valores nulos en la columna 'surface':\", null_count)\n",
        "\n",
        "matches = matches.dropna(subset=['surface'])\n",
        "\n",
        "matches.shape"
      ],
      "metadata": {
        "id": "qUEVRVVzLHa9",
        "colab": {
          "base_uri": "https://localhost:8080/"
        },
        "outputId": "82260c54-cd46-4152-c1c5-56c0307d4ef4"
      },
      "execution_count": 5,
      "outputs": [
        {
          "output_type": "stream",
          "name": "stdout",
          "text": [
            "Número de valores nulos en la columna 'surface': 2317\n"
          ]
        },
        {
          "output_type": "execute_result",
          "data": {
            "text/plain": [
              "(185844, 50)"
            ]
          },
          "metadata": {},
          "execution_count": 5
        }
      ]
    },
    {
      "cell_type": "code",
      "source": [
        "#tourney_level: Cantidad de nulos de toruney_level\n",
        "\n",
        "null_count = matches['tourney_level'].isnull().sum()\n",
        "\n",
        "print(\"Número de valores nulos en la columna 'tourney_level':\", null_count)\n",
        "\n",
        "#Como no hay nulos, no es necesario realizar ninguna acción por ahora"
      ],
      "metadata": {
        "id": "HX4luxHROi7t",
        "colab": {
          "base_uri": "https://localhost:8080/"
        },
        "outputId": "d9ee8048-f798-4127-cb38-3d22bb5568b6"
      },
      "execution_count": 6,
      "outputs": [
        {
          "output_type": "stream",
          "name": "stdout",
          "text": [
            "Número de valores nulos en la columna 'tourney_level': 0\n"
          ]
        }
      ]
    },
    {
      "cell_type": "code",
      "source": [
        "#Transformamos p1_seed y p2_seed en enteros\n",
        "\n",
        "import numpy as np\n",
        "\n",
        "#transformamos p1_seed y p2_seed en enteros y poner los valores nulos en 0\n",
        "\n",
        "matches['p1_seed'] = np.nan_to_num(matches['p1_seed'], nan=0, posinf=0, neginf=0)\n",
        "matches['p2_seed'] = np.nan_to_num(matches['p2_seed'], nan=0, posinf=0, neginf=0)\n",
        "\n",
        "matches['p1_seed'] = matches['p1_seed'].astype(int)\n",
        "matches['p2_seed'] = matches['p2_seed'].astype(int)\n",
        "\n",
        "#transformamos p1_ht y p2_ht en enteros y poner los valores nulos en 0\n",
        "\n",
        "matches['p1_ht'] = np.nan_to_num(matches['p1_ht'], nan=0, posinf=0, neginf=0)\n",
        "matches['p2_ht'] = np.nan_to_num(matches['p2_ht'], nan=0, posinf=0, neginf=0)\n",
        "\n",
        "matches['p1_ht'] = matches['p1_ht'].astype(int)\n",
        "matches['p2_ht'] = matches['p2_ht'].astype(int)\n",
        "\n",
        "#transformamos p1_rank y p2_rank en enteros y poner los valores nulos en 0\n",
        "\n",
        "matches['p1_rank'] = np.nan_to_num(matches['p1_rank'], nan=0, posinf=0, neginf=0)\n",
        "matches['p2_rank'] = np.nan_to_num(matches['p2_rank'], nan=0, posinf=0, neginf=0)\n",
        "\n",
        "matches['p1_rank'] = matches['p1_rank'].astype(int)\n",
        "matches['p2_rank'] = matches['p2_rank'].astype(int)\n",
        "\n",
        "#transformamos p1_age y p2_age en enteros y poner los valores nulos en 0\n",
        "\n",
        "matches['p1_age'] = np.nan_to_num(matches['p1_age'], nan=0, posinf=0, neginf=0)\n",
        "matches['p2_age'] = np.nan_to_num(matches['p2_age'], nan=0, posinf=0, neginf=0)\n",
        "\n",
        "matches['p1_age'] = matches['p1_age'].astype(int)\n",
        "matches['p2_age'] = matches['p2_age'].astype(int)\n",
        "\n",
        "#Eliminamos p1_rank_points y p2_rank_points ya que hay demasiados datos faltantes\n",
        "\n",
        "matches = matches.drop(columns=['p1_rank_points', 'p2_rank_points'])"
      ],
      "metadata": {
        "id": "uh0gpWEcPURE"
      },
      "execution_count": 7,
      "outputs": []
    },
    {
      "cell_type": "code",
      "source": [
        "#Eliminamos registros donde alguno de los jugadores es ambidiestro y donde alguno de los valores es nulo\n",
        "matches = matches.drop(matches[(matches['p1_hand'] == 'U') | (matches['p2_hand'] == 'U')].index)\n",
        "matches = matches.dropna(subset=['p1_hand', 'p2_hand'])\n",
        "\n",
        "\n",
        "# # Creamos las columnas dummy para las variables 'p1_hand' y 'p2_hand'\n",
        "# dummies_p1 = pd.get_dummies(matches['p1_hand'], prefix='p1')\n",
        "# dummies_p2 = pd.get_dummies(matches['p2_hand'], prefix='p2')\n",
        "\n",
        "# # Concatenamos las columnas dummy al DataFrame original\n",
        "# matches = pd.concat([matches, dummies_p1, dummies_p2], axis=1)\n",
        "\n",
        "# # Eliminamos las columnas originales 'p1_hand' y 'p2_hand'\n",
        "# matches.drop(['p1_hand', 'p2_hand'], axis=1, inplace=True)"
      ],
      "metadata": {
        "id": "Rj8Q7L_aPYS1"
      },
      "execution_count": 8,
      "outputs": []
    },
    {
      "cell_type": "code",
      "source": [
        "#Sacamos los best of 1 ya que son pocos y no tiene relevancia (no hay nulos)\n",
        "\n",
        "matches = matches.drop(matches[matches['best_of'] == 1].index)\n",
        "\n",
        "# dummies = pd.get_dummies(matches['best_of'])\n",
        "\n",
        "# matches = pd.concat([matches, dummies], axis=1)\n",
        "\n",
        "# matches.drop('best_of', axis=1, inplace=True)"
      ],
      "metadata": {
        "id": "gx3SBLOlRs4d"
      },
      "execution_count": 9,
      "outputs": []
    },
    {
      "cell_type": "code",
      "source": [
        "#Dejamos solo el nombre \"Davis cup\" a los torneos que comiencen con ese string, ya que para cada enfrentamiento hay un nombre disitnto. Ej: Davis Cup ARG vs ESP\n",
        "\n",
        "mask = matches['tourney_name'].str.startswith('Davis Cup')\n",
        "matches.loc[mask, 'tourney_name'] = 'Davis Cup'\n"
      ],
      "metadata": {
        "id": "IdW9gVe03iwh"
      },
      "execution_count": 10,
      "outputs": []
    },
    {
      "cell_type": "code",
      "source": [
        "# Calculamos la altura promedio solo con los valores distintos de cero\n",
        "avg_height = np.mean([height for height in matches[['p1_ht', 'p2_ht']].values.flatten() if height != 0])\n",
        "\n",
        "avg_height = int(avg_height)\n",
        "\n",
        "# Reemplazamos los valores 0 por la altura promedio\n",
        "matches.loc[matches['p1_ht'] == 0, 'p1_ht'] = avg_height\n",
        "matches.loc[matches['p2_ht'] == 0, 'p2_ht'] = avg_height\n"
      ],
      "metadata": {
        "id": "RzUz91745Pe3"
      },
      "execution_count": 11,
      "outputs": []
    },
    {
      "cell_type": "code",
      "source": [
        "# Calculamos la edad promedio solo con los valores distintos de cero\n",
        "avg_age = np.mean([height for height in matches[['p1_age', 'p2_age']].values.flatten() if height != 0])\n",
        "\n",
        "avg_age = int(avg_age)\n",
        "\n",
        "# Reemplazar los valores 0 por la edad promedio\n",
        "matches.loc[matches['p1_age'] == 0, 'p1_age'] = avg_age\n",
        "matches.loc[matches['p2_age'] == 0, 'p2_age'] = avg_age"
      ],
      "metadata": {
        "id": "0QIouESt_8XC"
      },
      "execution_count": 12,
      "outputs": []
    },
    {
      "cell_type": "code",
      "source": [
        "# Para aquellos registros donde no se tenia dato de la cantidad de sets, definimos que sean 3 ya que es lo más común\n",
        "\n",
        "matches['best_of'].fillna(3, inplace=True)\n"
      ],
      "metadata": {
        "id": "gwVvj3yzBH88"
      },
      "execution_count": 13,
      "outputs": []
    },
    {
      "cell_type": "code",
      "source": [
        "# Seleccionamos los registros en los que p1_rank y p2_rank no son 0 y los eliminamos del dataframe. Son muchos (más de 22 mil) pero no hay una forma certera de asignarle ranking a un jugador sin tener más datos.\n",
        "matches = matches.query('p1_rank != 0 & p2_rank != 0')\n",
        "matches = matches.dropna(subset=['p1_rank', 'p2_rank'])\n"
      ],
      "metadata": {
        "id": "ESr0XwKOCqeB"
      },
      "execution_count": 14,
      "outputs": []
    },
    {
      "cell_type": "code",
      "source": [
        "# Eliminamos los registros que no utilizamos\n",
        "columns_to_drop = ['tourney_id', 'tourney_name', 'tourney_date', 'p1_entry', 'round', 'p2_entry', 'p1_id', 'p2_id', 'draw_size', 'p1_name', 'p2_name', 'p1_ioc', 'p2_ioc', 'score', 'minutes', 'p1_ace', 'p2_ace', 'p1_df', 'p2_df', 'p1_svpt', 'p2_svpt', 'p1_1stIn', 'p2_1stIn', 'p1_1stWon', 'p2_1stWon', 'p1_2ndWon', 'p2_2ndWon', 'p1_SvGms', 'p2_SvGms', 'p1_bpSaved', 'p2_bpSaved', 'p1_bpFaced', 'p2_bpFaced']\n",
        "\n",
        "matches = matches.drop(columns=columns_to_drop)\n"
      ],
      "metadata": {
        "id": "270GkNUjbK3H"
      },
      "execution_count": 15,
      "outputs": []
    },
    {
      "cell_type": "code",
      "source": [
        "matches.shape"
      ],
      "metadata": {
        "id": "WyRWcuMOwWeF",
        "colab": {
          "base_uri": "https://localhost:8080/"
        },
        "outputId": "75356672-5a8f-45ef-edb6-4d6d35f1c334"
      },
      "execution_count": 16,
      "outputs": [
        {
          "output_type": "execute_result",
          "data": {
            "text/plain": [
              "(139324, 15)"
            ]
          },
          "metadata": {},
          "execution_count": 16
        }
      ]
    },
    {
      "cell_type": "markdown",
      "source": [
        "# Feature Engineering\n",
        "\n",
        "* Creamos la nueva columna 'rank_diff' con la diferencia absoluta entre las posiciones de los jugadores"
      ],
      "metadata": {
        "id": "ie4giBXcEhuH"
      }
    },
    {
      "cell_type": "markdown",
      "source": [
        "# Datos para el entrenamiento\n",
        "\n",
        "* Dividimos los datos en conjunto de entrenamiento y conjunto de prueba"
      ],
      "metadata": {
        "id": "tBR84o9YFsHH"
      }
    },
    {
      "cell_type": "code",
      "source": [
        "matches['rank_diff'] = abs(matches['p1_rank'] - matches['p2_rank'])"
      ],
      "metadata": {
        "id": "sV3qGcrQsDr_"
      },
      "execution_count": 17,
      "outputs": []
    },
    {
      "cell_type": "code",
      "source": [
        "train, not_train = train_test_split(matches, test_size=0.4, random_state=42)\n",
        "validation, test = train_test_split(not_train, test_size=0.5, random_state=42)\n",
        "\n",
        "train.shape, validation.shape, test.shape"
      ],
      "metadata": {
        "id": "2cy9e_k0SWmM",
        "colab": {
          "base_uri": "https://localhost:8080/"
        },
        "outputId": "0446563f-53ae-405a-bb38-b61f377413ec"
      },
      "execution_count": 18,
      "outputs": [
        {
          "output_type": "execute_result",
          "data": {
            "text/plain": [
              "((83594, 16), (27865, 16), (27865, 16))"
            ]
          },
          "metadata": {},
          "execution_count": 18
        }
      ]
    },
    {
      "cell_type": "code",
      "source": [
        "\n",
        "train.dtypes"
      ],
      "metadata": {
        "id": "mnncBG4hvZZK",
        "colab": {
          "base_uri": "https://localhost:8080/"
        },
        "outputId": "0027e963-9b94-4aea-b4f7-d97768be56c0"
      },
      "execution_count": 19,
      "outputs": [
        {
          "output_type": "execute_result",
          "data": {
            "text/plain": [
              "surface          object\n",
              "tourney_level    object\n",
              "match_num         int64\n",
              "p1_seed           int64\n",
              "p1_hand          object\n",
              "p1_ht             int64\n",
              "p1_age            int64\n",
              "p2_seed           int64\n",
              "p2_hand          object\n",
              "p2_ht             int64\n",
              "p2_age            int64\n",
              "best_of           int64\n",
              "p1_rank           int64\n",
              "p2_rank           int64\n",
              "winner            int64\n",
              "rank_diff         int64\n",
              "dtype: object"
            ]
          },
          "metadata": {},
          "execution_count": 19
        }
      ]
    },
    {
      "cell_type": "code",
      "source": [
        "mapper = DataFrameMapper([\n",
        "    (['p1_seed'], [StandardScaler()]),\n",
        "    (['p2_seed'], [StandardScaler()]),\n",
        "    (['p1_rank'], [StandardScaler()]),\n",
        "    (['p2_rank'], [StandardScaler()]),\n",
        "    (['surface'], [OneHotEncoder()]),\n",
        "    (['best_of'], [OneHotEncoder()]),\n",
        "    (['p1_ht'], [StandardScaler()]),\n",
        "    (['p2_ht'], [StandardScaler()]),\n",
        "    (['p1_age'], [StandardScaler()]),\n",
        "    (['p2_age'], [StandardScaler()]),\n",
        "    (['p1_hand'], [OneHotEncoder()]),\n",
        "    (['p2_hand'], [OneHotEncoder()]),\n",
        "])\n",
        "\n",
        "mapper.fit(train)"
      ],
      "metadata": {
        "id": "Iwfd5lZGNTLd",
        "colab": {
          "base_uri": "https://localhost:8080/",
          "height": 252
        },
        "outputId": "803924a6-f379-413f-fae2-456650d7cee8"
      },
      "execution_count": 20,
      "outputs": [
        {
          "output_type": "execute_result",
          "data": {
            "text/plain": [
              "DataFrameMapper(drop_cols=[],\n",
              "                features=[(['p1_seed'], [StandardScaler()]),\n",
              "                          (['p2_seed'], [StandardScaler()]),\n",
              "                          (['p1_rank'], [StandardScaler()]),\n",
              "                          (['p2_rank'], [StandardScaler()]),\n",
              "                          (['surface'], [OneHotEncoder()]),\n",
              "                          (['best_of'], [OneHotEncoder()]),\n",
              "                          (['p1_ht'], [StandardScaler()]),\n",
              "                          (['p2_ht'], [StandardScaler()]),\n",
              "                          (['p1_age'], [StandardScaler()]),\n",
              "                          (['p2_age'], [StandardScaler()]),\n",
              "                          (['p1_hand'], [OneHotEncoder()]),\n",
              "                          (['p2_hand'], [OneHotEncoder()])])"
            ],
            "text/html": [
              "<style>#sk-container-id-1 {color: black;background-color: white;}#sk-container-id-1 pre{padding: 0;}#sk-container-id-1 div.sk-toggleable {background-color: white;}#sk-container-id-1 label.sk-toggleable__label {cursor: pointer;display: block;width: 100%;margin-bottom: 0;padding: 0.3em;box-sizing: border-box;text-align: center;}#sk-container-id-1 label.sk-toggleable__label-arrow:before {content: \"▸\";float: left;margin-right: 0.25em;color: #696969;}#sk-container-id-1 label.sk-toggleable__label-arrow:hover:before {color: black;}#sk-container-id-1 div.sk-estimator:hover label.sk-toggleable__label-arrow:before {color: black;}#sk-container-id-1 div.sk-toggleable__content {max-height: 0;max-width: 0;overflow: hidden;text-align: left;background-color: #f0f8ff;}#sk-container-id-1 div.sk-toggleable__content pre {margin: 0.2em;color: black;border-radius: 0.25em;background-color: #f0f8ff;}#sk-container-id-1 input.sk-toggleable__control:checked~div.sk-toggleable__content {max-height: 200px;max-width: 100%;overflow: auto;}#sk-container-id-1 input.sk-toggleable__control:checked~label.sk-toggleable__label-arrow:before {content: \"▾\";}#sk-container-id-1 div.sk-estimator input.sk-toggleable__control:checked~label.sk-toggleable__label {background-color: #d4ebff;}#sk-container-id-1 div.sk-label input.sk-toggleable__control:checked~label.sk-toggleable__label {background-color: #d4ebff;}#sk-container-id-1 input.sk-hidden--visually {border: 0;clip: rect(1px 1px 1px 1px);clip: rect(1px, 1px, 1px, 1px);height: 1px;margin: -1px;overflow: hidden;padding: 0;position: absolute;width: 1px;}#sk-container-id-1 div.sk-estimator {font-family: monospace;background-color: #f0f8ff;border: 1px dotted black;border-radius: 0.25em;box-sizing: border-box;margin-bottom: 0.5em;}#sk-container-id-1 div.sk-estimator:hover {background-color: #d4ebff;}#sk-container-id-1 div.sk-parallel-item::after {content: \"\";width: 100%;border-bottom: 1px solid gray;flex-grow: 1;}#sk-container-id-1 div.sk-label:hover label.sk-toggleable__label {background-color: #d4ebff;}#sk-container-id-1 div.sk-serial::before {content: \"\";position: absolute;border-left: 1px solid gray;box-sizing: border-box;top: 0;bottom: 0;left: 50%;z-index: 0;}#sk-container-id-1 div.sk-serial {display: flex;flex-direction: column;align-items: center;background-color: white;padding-right: 0.2em;padding-left: 0.2em;position: relative;}#sk-container-id-1 div.sk-item {position: relative;z-index: 1;}#sk-container-id-1 div.sk-parallel {display: flex;align-items: stretch;justify-content: center;background-color: white;position: relative;}#sk-container-id-1 div.sk-item::before, #sk-container-id-1 div.sk-parallel-item::before {content: \"\";position: absolute;border-left: 1px solid gray;box-sizing: border-box;top: 0;bottom: 0;left: 50%;z-index: -1;}#sk-container-id-1 div.sk-parallel-item {display: flex;flex-direction: column;z-index: 1;position: relative;background-color: white;}#sk-container-id-1 div.sk-parallel-item:first-child::after {align-self: flex-end;width: 50%;}#sk-container-id-1 div.sk-parallel-item:last-child::after {align-self: flex-start;width: 50%;}#sk-container-id-1 div.sk-parallel-item:only-child::after {width: 0;}#sk-container-id-1 div.sk-dashed-wrapped {border: 1px dashed gray;margin: 0 0.4em 0.5em 0.4em;box-sizing: border-box;padding-bottom: 0.4em;background-color: white;}#sk-container-id-1 div.sk-label label {font-family: monospace;font-weight: bold;display: inline-block;line-height: 1.2em;}#sk-container-id-1 div.sk-label-container {text-align: center;}#sk-container-id-1 div.sk-container {/* jupyter's `normalize.less` sets `[hidden] { display: none; }` but bootstrap.min.css set `[hidden] { display: none !important; }` so we also need the `!important` here to be able to override the default hidden behavior on the sphinx rendered scikit-learn.org. See: https://github.com/scikit-learn/scikit-learn/issues/21755 */display: inline-block !important;position: relative;}#sk-container-id-1 div.sk-text-repr-fallback {display: none;}</style><div id=\"sk-container-id-1\" class=\"sk-top-container\"><div class=\"sk-text-repr-fallback\"><pre>DataFrameMapper(drop_cols=[],\n",
              "                features=[([&#x27;p1_seed&#x27;], [StandardScaler()]),\n",
              "                          ([&#x27;p2_seed&#x27;], [StandardScaler()]),\n",
              "                          ([&#x27;p1_rank&#x27;], [StandardScaler()]),\n",
              "                          ([&#x27;p2_rank&#x27;], [StandardScaler()]),\n",
              "                          ([&#x27;surface&#x27;], [OneHotEncoder()]),\n",
              "                          ([&#x27;best_of&#x27;], [OneHotEncoder()]),\n",
              "                          ([&#x27;p1_ht&#x27;], [StandardScaler()]),\n",
              "                          ([&#x27;p2_ht&#x27;], [StandardScaler()]),\n",
              "                          ([&#x27;p1_age&#x27;], [StandardScaler()]),\n",
              "                          ([&#x27;p2_age&#x27;], [StandardScaler()]),\n",
              "                          ([&#x27;p1_hand&#x27;], [OneHotEncoder()]),\n",
              "                          ([&#x27;p2_hand&#x27;], [OneHotEncoder()])])</pre><b>In a Jupyter environment, please rerun this cell to show the HTML representation or trust the notebook. <br />On GitHub, the HTML representation is unable to render, please try loading this page with nbviewer.org.</b></div><div class=\"sk-container\" hidden><div class=\"sk-item\"><div class=\"sk-estimator sk-toggleable\"><input class=\"sk-toggleable__control sk-hidden--visually\" id=\"sk-estimator-id-1\" type=\"checkbox\" checked><label for=\"sk-estimator-id-1\" class=\"sk-toggleable__label sk-toggleable__label-arrow\">DataFrameMapper</label><div class=\"sk-toggleable__content\"><pre>DataFrameMapper(drop_cols=[],\n",
              "                features=[([&#x27;p1_seed&#x27;], [StandardScaler()]),\n",
              "                          ([&#x27;p2_seed&#x27;], [StandardScaler()]),\n",
              "                          ([&#x27;p1_rank&#x27;], [StandardScaler()]),\n",
              "                          ([&#x27;p2_rank&#x27;], [StandardScaler()]),\n",
              "                          ([&#x27;surface&#x27;], [OneHotEncoder()]),\n",
              "                          ([&#x27;best_of&#x27;], [OneHotEncoder()]),\n",
              "                          ([&#x27;p1_ht&#x27;], [StandardScaler()]),\n",
              "                          ([&#x27;p2_ht&#x27;], [StandardScaler()]),\n",
              "                          ([&#x27;p1_age&#x27;], [StandardScaler()]),\n",
              "                          ([&#x27;p2_age&#x27;], [StandardScaler()]),\n",
              "                          ([&#x27;p1_hand&#x27;], [OneHotEncoder()]),\n",
              "                          ([&#x27;p2_hand&#x27;], [OneHotEncoder()])])</pre></div></div></div></div></div>"
            ]
          },
          "metadata": {},
          "execution_count": 20
        }
      ]
    },
    {
      "cell_type": "code",
      "source": [
        "\n",
        "mapper_fe = DataFrameMapper([\n",
        "    (['p1_seed'], [StandardScaler()]),\n",
        "    (['p2_seed'], [StandardScaler()]),\n",
        "    (['p1_rank'], [StandardScaler()]),\n",
        "    (['p2_rank'], [StandardScaler()]),\n",
        "    (['surface'], [OneHotEncoder()]),\n",
        "    (['best_of'], [OneHotEncoder()]),\n",
        "    (['p1_ht'], [StandardScaler()]),\n",
        "    (['p2_ht'], [StandardScaler()]),\n",
        "    (['p1_age'], [StandardScaler()]),\n",
        "    (['p2_age'], [StandardScaler()]),\n",
        "    (['p1_hand'], [OneHotEncoder()]),\n",
        "    (['p2_hand'], [OneHotEncoder()]),\n",
        "    (['rank_diff'], [StandardScaler()]),\n",
        "])\n",
        "\n",
        "\n",
        "mapper_fe.fit(train)"
      ],
      "metadata": {
        "id": "Wd3Lwn_Ovuw_",
        "colab": {
          "base_uri": "https://localhost:8080/",
          "height": 252
        },
        "outputId": "194dbd90-0d50-4e5a-e396-4b949035863b"
      },
      "execution_count": 21,
      "outputs": [
        {
          "output_type": "execute_result",
          "data": {
            "text/plain": [
              "DataFrameMapper(drop_cols=[],\n",
              "                features=[(['p1_seed'], [StandardScaler()]),\n",
              "                          (['p2_seed'], [StandardScaler()]),\n",
              "                          (['p1_rank'], [StandardScaler()]),\n",
              "                          (['p2_rank'], [StandardScaler()]),\n",
              "                          (['surface'], [OneHotEncoder()]),\n",
              "                          (['best_of'], [OneHotEncoder()]),\n",
              "                          (['p1_ht'], [StandardScaler()]),\n",
              "                          (['p2_ht'], [StandardScaler()]),\n",
              "                          (['p1_age'], [StandardScaler()]),\n",
              "                          (['p2_age'], [StandardScaler()]),\n",
              "                          (['p1_hand'], [OneHotEncoder()]),\n",
              "                          (['p2_hand'], [OneHotEncoder()]),\n",
              "                          (['rank_diff'], [StandardScaler()])])"
            ],
            "text/html": [
              "<style>#sk-container-id-2 {color: black;background-color: white;}#sk-container-id-2 pre{padding: 0;}#sk-container-id-2 div.sk-toggleable {background-color: white;}#sk-container-id-2 label.sk-toggleable__label {cursor: pointer;display: block;width: 100%;margin-bottom: 0;padding: 0.3em;box-sizing: border-box;text-align: center;}#sk-container-id-2 label.sk-toggleable__label-arrow:before {content: \"▸\";float: left;margin-right: 0.25em;color: #696969;}#sk-container-id-2 label.sk-toggleable__label-arrow:hover:before {color: black;}#sk-container-id-2 div.sk-estimator:hover label.sk-toggleable__label-arrow:before {color: black;}#sk-container-id-2 div.sk-toggleable__content {max-height: 0;max-width: 0;overflow: hidden;text-align: left;background-color: #f0f8ff;}#sk-container-id-2 div.sk-toggleable__content pre {margin: 0.2em;color: black;border-radius: 0.25em;background-color: #f0f8ff;}#sk-container-id-2 input.sk-toggleable__control:checked~div.sk-toggleable__content {max-height: 200px;max-width: 100%;overflow: auto;}#sk-container-id-2 input.sk-toggleable__control:checked~label.sk-toggleable__label-arrow:before {content: \"▾\";}#sk-container-id-2 div.sk-estimator input.sk-toggleable__control:checked~label.sk-toggleable__label {background-color: #d4ebff;}#sk-container-id-2 div.sk-label input.sk-toggleable__control:checked~label.sk-toggleable__label {background-color: #d4ebff;}#sk-container-id-2 input.sk-hidden--visually {border: 0;clip: rect(1px 1px 1px 1px);clip: rect(1px, 1px, 1px, 1px);height: 1px;margin: -1px;overflow: hidden;padding: 0;position: absolute;width: 1px;}#sk-container-id-2 div.sk-estimator {font-family: monospace;background-color: #f0f8ff;border: 1px dotted black;border-radius: 0.25em;box-sizing: border-box;margin-bottom: 0.5em;}#sk-container-id-2 div.sk-estimator:hover {background-color: #d4ebff;}#sk-container-id-2 div.sk-parallel-item::after {content: \"\";width: 100%;border-bottom: 1px solid gray;flex-grow: 1;}#sk-container-id-2 div.sk-label:hover label.sk-toggleable__label {background-color: #d4ebff;}#sk-container-id-2 div.sk-serial::before {content: \"\";position: absolute;border-left: 1px solid gray;box-sizing: border-box;top: 0;bottom: 0;left: 50%;z-index: 0;}#sk-container-id-2 div.sk-serial {display: flex;flex-direction: column;align-items: center;background-color: white;padding-right: 0.2em;padding-left: 0.2em;position: relative;}#sk-container-id-2 div.sk-item {position: relative;z-index: 1;}#sk-container-id-2 div.sk-parallel {display: flex;align-items: stretch;justify-content: center;background-color: white;position: relative;}#sk-container-id-2 div.sk-item::before, #sk-container-id-2 div.sk-parallel-item::before {content: \"\";position: absolute;border-left: 1px solid gray;box-sizing: border-box;top: 0;bottom: 0;left: 50%;z-index: -1;}#sk-container-id-2 div.sk-parallel-item {display: flex;flex-direction: column;z-index: 1;position: relative;background-color: white;}#sk-container-id-2 div.sk-parallel-item:first-child::after {align-self: flex-end;width: 50%;}#sk-container-id-2 div.sk-parallel-item:last-child::after {align-self: flex-start;width: 50%;}#sk-container-id-2 div.sk-parallel-item:only-child::after {width: 0;}#sk-container-id-2 div.sk-dashed-wrapped {border: 1px dashed gray;margin: 0 0.4em 0.5em 0.4em;box-sizing: border-box;padding-bottom: 0.4em;background-color: white;}#sk-container-id-2 div.sk-label label {font-family: monospace;font-weight: bold;display: inline-block;line-height: 1.2em;}#sk-container-id-2 div.sk-label-container {text-align: center;}#sk-container-id-2 div.sk-container {/* jupyter's `normalize.less` sets `[hidden] { display: none; }` but bootstrap.min.css set `[hidden] { display: none !important; }` so we also need the `!important` here to be able to override the default hidden behavior on the sphinx rendered scikit-learn.org. See: https://github.com/scikit-learn/scikit-learn/issues/21755 */display: inline-block !important;position: relative;}#sk-container-id-2 div.sk-text-repr-fallback {display: none;}</style><div id=\"sk-container-id-2\" class=\"sk-top-container\"><div class=\"sk-text-repr-fallback\"><pre>DataFrameMapper(drop_cols=[],\n",
              "                features=[([&#x27;p1_seed&#x27;], [StandardScaler()]),\n",
              "                          ([&#x27;p2_seed&#x27;], [StandardScaler()]),\n",
              "                          ([&#x27;p1_rank&#x27;], [StandardScaler()]),\n",
              "                          ([&#x27;p2_rank&#x27;], [StandardScaler()]),\n",
              "                          ([&#x27;surface&#x27;], [OneHotEncoder()]),\n",
              "                          ([&#x27;best_of&#x27;], [OneHotEncoder()]),\n",
              "                          ([&#x27;p1_ht&#x27;], [StandardScaler()]),\n",
              "                          ([&#x27;p2_ht&#x27;], [StandardScaler()]),\n",
              "                          ([&#x27;p1_age&#x27;], [StandardScaler()]),\n",
              "                          ([&#x27;p2_age&#x27;], [StandardScaler()]),\n",
              "                          ([&#x27;p1_hand&#x27;], [OneHotEncoder()]),\n",
              "                          ([&#x27;p2_hand&#x27;], [OneHotEncoder()]),\n",
              "                          ([&#x27;rank_diff&#x27;], [StandardScaler()])])</pre><b>In a Jupyter environment, please rerun this cell to show the HTML representation or trust the notebook. <br />On GitHub, the HTML representation is unable to render, please try loading this page with nbviewer.org.</b></div><div class=\"sk-container\" hidden><div class=\"sk-item\"><div class=\"sk-estimator sk-toggleable\"><input class=\"sk-toggleable__control sk-hidden--visually\" id=\"sk-estimator-id-2\" type=\"checkbox\" checked><label for=\"sk-estimator-id-2\" class=\"sk-toggleable__label sk-toggleable__label-arrow\">DataFrameMapper</label><div class=\"sk-toggleable__content\"><pre>DataFrameMapper(drop_cols=[],\n",
              "                features=[([&#x27;p1_seed&#x27;], [StandardScaler()]),\n",
              "                          ([&#x27;p2_seed&#x27;], [StandardScaler()]),\n",
              "                          ([&#x27;p1_rank&#x27;], [StandardScaler()]),\n",
              "                          ([&#x27;p2_rank&#x27;], [StandardScaler()]),\n",
              "                          ([&#x27;surface&#x27;], [OneHotEncoder()]),\n",
              "                          ([&#x27;best_of&#x27;], [OneHotEncoder()]),\n",
              "                          ([&#x27;p1_ht&#x27;], [StandardScaler()]),\n",
              "                          ([&#x27;p2_ht&#x27;], [StandardScaler()]),\n",
              "                          ([&#x27;p1_age&#x27;], [StandardScaler()]),\n",
              "                          ([&#x27;p2_age&#x27;], [StandardScaler()]),\n",
              "                          ([&#x27;p1_hand&#x27;], [OneHotEncoder()]),\n",
              "                          ([&#x27;p2_hand&#x27;], [OneHotEncoder()]),\n",
              "                          ([&#x27;rank_diff&#x27;], [StandardScaler()])])</pre></div></div></div></div></div>"
            ]
          },
          "metadata": {},
          "execution_count": 21
        }
      ]
    },
    {
      "cell_type": "code",
      "source": [
        "def evaluate_model(model, set_names=('train', 'validation'), title='', show_cm=False):\n",
        "    if title:\n",
        "        display(title)\n",
        "        \n",
        "    final_metrics = {\n",
        "        'Accuracy': [],       \n",
        "    }\n",
        "        \n",
        "    for i, set_name in enumerate(set_names):\n",
        "        assert set_name in ['train', 'validation', 'test']\n",
        "        set_data = globals()[set_name]  # <- hack feo...\n",
        "\n",
        "        y = set_data.winner\n",
        "        y_pred = model.predict(set_data)\n",
        "        final_metrics['Accuracy'].append(metrics.accuracy_score(y, y_pred))\n",
        "\n",
        "        \n",
        "        \n",
        "        if show_cm:\n",
        "            cm = metrics.confusion_matrix(y, y_pred)\n",
        "            cm_plot = metrics.ConfusionMatrixDisplay(confusion_matrix=cm, \n",
        "                                                     display_labels=['loss', 'win'])\n",
        "            cm_plot.plot(cmap=\"Blues\")\n",
        "        \n",
        "    display(pd.DataFrame(final_metrics, index=set_names))"
      ],
      "metadata": {
        "id": "l7zw_T2SabWf"
      },
      "execution_count": 22,
      "outputs": []
    },
    {
      "cell_type": "markdown",
      "source": [
        "# Regresión Logística"
      ],
      "metadata": {
        "id": "lIIdqCrOROzX"
      }
    },
    {
      "cell_type": "code",
      "source": [
        "#Regresión Logistica\n",
        "\n",
        "from sklearn.linear_model import LogisticRegression\n",
        "from sklearn.experimental import enable_iterative_imputer \n",
        "from sklearn.impute import SimpleImputer, IterativeImputer\n",
        "\n",
        "lr_model_si = Pipeline([\n",
        "    ('mapper', mapper),\n",
        "    ('imputer', SimpleImputer(strategy='mean')),\n",
        "    ('classifier', LogisticRegression(random_state=42)),\n",
        "])\n",
        "\n",
        "lr_model_si.fit(train, train.winner)\n",
        "\n",
        "y_pred = lr_model_si.predict(validation)\n",
        "\n",
        "evaluate_model(lr_model_si, title='LR Simple Imputer sin FE', show_cm=True)\n"
      ],
      "metadata": {
        "id": "vm9rRDgBmcXl",
        "colab": {
          "base_uri": "https://localhost:8080/",
          "height": 998
        },
        "outputId": "a4eac3db-3310-4c93-fe22-605d8c02afc1"
      },
      "execution_count": 23,
      "outputs": [
        {
          "output_type": "display_data",
          "data": {
            "text/plain": [
              "'LR Simple Imputer sin FE'"
            ],
            "application/vnd.google.colaboratory.intrinsic+json": {
              "type": "string"
            }
          },
          "metadata": {}
        },
        {
          "output_type": "display_data",
          "data": {
            "text/plain": [
              "            Accuracy\n",
              "train       0.643982\n",
              "validation  0.645685"
            ],
            "text/html": [
              "\n",
              "  <div id=\"df-d44710fb-e01a-4f38-95ff-2d9ff23654a4\">\n",
              "    <div class=\"colab-df-container\">\n",
              "      <div>\n",
              "<style scoped>\n",
              "    .dataframe tbody tr th:only-of-type {\n",
              "        vertical-align: middle;\n",
              "    }\n",
              "\n",
              "    .dataframe tbody tr th {\n",
              "        vertical-align: top;\n",
              "    }\n",
              "\n",
              "    .dataframe thead th {\n",
              "        text-align: right;\n",
              "    }\n",
              "</style>\n",
              "<table border=\"1\" class=\"dataframe\">\n",
              "  <thead>\n",
              "    <tr style=\"text-align: right;\">\n",
              "      <th></th>\n",
              "      <th>Accuracy</th>\n",
              "    </tr>\n",
              "  </thead>\n",
              "  <tbody>\n",
              "    <tr>\n",
              "      <th>train</th>\n",
              "      <td>0.643982</td>\n",
              "    </tr>\n",
              "    <tr>\n",
              "      <th>validation</th>\n",
              "      <td>0.645685</td>\n",
              "    </tr>\n",
              "  </tbody>\n",
              "</table>\n",
              "</div>\n",
              "      <button class=\"colab-df-convert\" onclick=\"convertToInteractive('df-d44710fb-e01a-4f38-95ff-2d9ff23654a4')\"\n",
              "              title=\"Convert this dataframe to an interactive table.\"\n",
              "              style=\"display:none;\">\n",
              "        \n",
              "  <svg xmlns=\"http://www.w3.org/2000/svg\" height=\"24px\"viewBox=\"0 0 24 24\"\n",
              "       width=\"24px\">\n",
              "    <path d=\"M0 0h24v24H0V0z\" fill=\"none\"/>\n",
              "    <path d=\"M18.56 5.44l.94 2.06.94-2.06 2.06-.94-2.06-.94-.94-2.06-.94 2.06-2.06.94zm-11 1L8.5 8.5l.94-2.06 2.06-.94-2.06-.94L8.5 2.5l-.94 2.06-2.06.94zm10 10l.94 2.06.94-2.06 2.06-.94-2.06-.94-.94-2.06-.94 2.06-2.06.94z\"/><path d=\"M17.41 7.96l-1.37-1.37c-.4-.4-.92-.59-1.43-.59-.52 0-1.04.2-1.43.59L10.3 9.45l-7.72 7.72c-.78.78-.78 2.05 0 2.83L4 21.41c.39.39.9.59 1.41.59.51 0 1.02-.2 1.41-.59l7.78-7.78 2.81-2.81c.8-.78.8-2.07 0-2.86zM5.41 20L4 18.59l7.72-7.72 1.47 1.35L5.41 20z\"/>\n",
              "  </svg>\n",
              "      </button>\n",
              "      \n",
              "  <style>\n",
              "    .colab-df-container {\n",
              "      display:flex;\n",
              "      flex-wrap:wrap;\n",
              "      gap: 12px;\n",
              "    }\n",
              "\n",
              "    .colab-df-convert {\n",
              "      background-color: #E8F0FE;\n",
              "      border: none;\n",
              "      border-radius: 50%;\n",
              "      cursor: pointer;\n",
              "      display: none;\n",
              "      fill: #1967D2;\n",
              "      height: 32px;\n",
              "      padding: 0 0 0 0;\n",
              "      width: 32px;\n",
              "    }\n",
              "\n",
              "    .colab-df-convert:hover {\n",
              "      background-color: #E2EBFA;\n",
              "      box-shadow: 0px 1px 2px rgba(60, 64, 67, 0.3), 0px 1px 3px 1px rgba(60, 64, 67, 0.15);\n",
              "      fill: #174EA6;\n",
              "    }\n",
              "\n",
              "    [theme=dark] .colab-df-convert {\n",
              "      background-color: #3B4455;\n",
              "      fill: #D2E3FC;\n",
              "    }\n",
              "\n",
              "    [theme=dark] .colab-df-convert:hover {\n",
              "      background-color: #434B5C;\n",
              "      box-shadow: 0px 1px 3px 1px rgba(0, 0, 0, 0.15);\n",
              "      filter: drop-shadow(0px 1px 2px rgba(0, 0, 0, 0.3));\n",
              "      fill: #FFFFFF;\n",
              "    }\n",
              "  </style>\n",
              "\n",
              "      <script>\n",
              "        const buttonEl =\n",
              "          document.querySelector('#df-d44710fb-e01a-4f38-95ff-2d9ff23654a4 button.colab-df-convert');\n",
              "        buttonEl.style.display =\n",
              "          google.colab.kernel.accessAllowed ? 'block' : 'none';\n",
              "\n",
              "        async function convertToInteractive(key) {\n",
              "          const element = document.querySelector('#df-d44710fb-e01a-4f38-95ff-2d9ff23654a4');\n",
              "          const dataTable =\n",
              "            await google.colab.kernel.invokeFunction('convertToInteractive',\n",
              "                                                     [key], {});\n",
              "          if (!dataTable) return;\n",
              "\n",
              "          const docLinkHtml = 'Like what you see? Visit the ' +\n",
              "            '<a target=\"_blank\" href=https://colab.research.google.com/notebooks/data_table.ipynb>data table notebook</a>'\n",
              "            + ' to learn more about interactive tables.';\n",
              "          element.innerHTML = '';\n",
              "          dataTable['output_type'] = 'display_data';\n",
              "          await google.colab.output.renderOutput(dataTable, element);\n",
              "          const docLink = document.createElement('div');\n",
              "          docLink.innerHTML = docLinkHtml;\n",
              "          element.appendChild(docLink);\n",
              "        }\n",
              "      </script>\n",
              "    </div>\n",
              "  </div>\n",
              "  "
            ]
          },
          "metadata": {}
        },
        {
          "output_type": "display_data",
          "data": {
            "text/plain": [
              "<Figure size 640x480 with 2 Axes>"
            ],
            "image/png": "[encoded data removed]"
          },
          "metadata": {}
        },
        {
          "output_type": "display_data",
          "data": {
            "text/plain": [
              "<Figure size 640x480 with 2 Axes>"
            ],
            "image/png": "[encoded data removed]"
          },
          "metadata": {}
        }
      ]
    },
    {
      "cell_type": "code",
      "source": [
        "#Regresion Logistica con FE\n",
        "\n",
        "from sklearn.linear_model import LogisticRegression\n",
        "from sklearn.experimental import enable_iterative_imputer \n",
        "from sklearn.impute import SimpleImputer, IterativeImputer\n",
        "\n",
        "\n",
        "lr_model_si_fe = Pipeline([\n",
        "    ('mapper', mapper_fe),\n",
        "    ('imputer', SimpleImputer(strategy='mean')),\n",
        "    ('classifier', LogisticRegression(random_state=42)),\n",
        "])\n",
        "\n",
        "lr_model_si_fe.fit(train, train.winner)\n",
        "\n",
        "y_pred = lr_model_si_fe.predict(validation)\n",
        "\n",
        "evaluate_model(lr_model_si_fe, title='LR Simple Imputer con FE', show_cm=True)"
      ],
      "metadata": {
        "id": "v4qj-DH5rB8A",
        "colab": {
          "base_uri": "https://localhost:8080/",
          "height": 998
        },
        "outputId": "e6d9a3e8-073c-4372-e6a5-1a4a53a70e27"
      },
      "execution_count": 24,
      "outputs": [
        {
          "output_type": "display_data",
          "data": {
            "text/plain": [
              "'LR Simple Imputer con FE'"
            ],
            "application/vnd.google.colaboratory.intrinsic+json": {
              "type": "string"
            }
          },
          "metadata": {}
        },
        {
          "output_type": "display_data",
          "data": {
            "text/plain": [
              "            Accuracy\n",
              "train       0.643922\n",
              "validation  0.645685"
            ],
            "text/html": [
              "\n",
              "  <div id=\"df-57a89041-6d2c-45a7-a794-2e1d3f60df8d\">\n",
              "    <div class=\"colab-df-container\">\n",
              "      <div>\n",
              "<style scoped>\n",
              "    .dataframe tbody tr th:only-of-type {\n",
              "        vertical-align: middle;\n",
              "    }\n",
              "\n",
              "    .dataframe tbody tr th {\n",
              "        vertical-align: top;\n",
              "    }\n",
              "\n",
              "    .dataframe thead th {\n",
              "        text-align: right;\n",
              "    }\n",
              "</style>\n",
              "<table border=\"1\" class=\"dataframe\">\n",
              "  <thead>\n",
              "    <tr style=\"text-align: right;\">\n",
              "      <th></th>\n",
              "      <th>Accuracy</th>\n",
              "    </tr>\n",
              "  </thead>\n",
              "  <tbody>\n",
              "    <tr>\n",
              "      <th>train</th>\n",
              "      <td>0.643922</td>\n",
              "    </tr>\n",
              "    <tr>\n",
              "      <th>validation</th>\n",
              "      <td>0.645685</td>\n",
              "    </tr>\n",
              "  </tbody>\n",
              "</table>\n",
              "</div>\n",
              "      <button class=\"colab-df-convert\" onclick=\"convertToInteractive('df-57a89041-6d2c-45a7-a794-2e1d3f60df8d')\"\n",
              "              title=\"Convert this dataframe to an interactive table.\"\n",
              "              style=\"display:none;\">\n",
              "        \n",
              "  <svg xmlns=\"http://www.w3.org/2000/svg\" height=\"24px\"viewBox=\"0 0 24 24\"\n",
              "       width=\"24px\">\n",
              "    <path d=\"M0 0h24v24H0V0z\" fill=\"none\"/>\n",
              "    <path d=\"M18.56 5.44l.94 2.06.94-2.06 2.06-.94-2.06-.94-.94-2.06-.94 2.06-2.06.94zm-11 1L8.5 8.5l.94-2.06 2.06-.94-2.06-.94L8.5 2.5l-.94 2.06-2.06.94zm10 10l.94 2.06.94-2.06 2.06-.94-2.06-.94-.94-2.06-.94 2.06-2.06.94z\"/><path d=\"M17.41 7.96l-1.37-1.37c-.4-.4-.92-.59-1.43-.59-.52 0-1.04.2-1.43.59L10.3 9.45l-7.72 7.72c-.78.78-.78 2.05 0 2.83L4 21.41c.39.39.9.59 1.41.59.51 0 1.02-.2 1.41-.59l7.78-7.78 2.81-2.81c.8-.78.8-2.07 0-2.86zM5.41 20L4 18.59l7.72-7.72 1.47 1.35L5.41 20z\"/>\n",
              "  </svg>\n",
              "      </button>\n",
              "      \n",
              "  <style>\n",
              "    .colab-df-container {\n",
              "      display:flex;\n",
              "      flex-wrap:wrap;\n",
              "      gap: 12px;\n",
              "    }\n",
              "\n",
              "    .colab-df-convert {\n",
              "      background-color: #E8F0FE;\n",
              "      border: none;\n",
              "      border-radius: 50%;\n",
              "      cursor: pointer;\n",
              "      display: none;\n",
              "      fill: #1967D2;\n",
              "      height: 32px;\n",
              "      padding: 0 0 0 0;\n",
              "      width: 32px;\n",
              "    }\n",
              "\n",
              "    .colab-df-convert:hover {\n",
              "      background-color: #E2EBFA;\n",
              "      box-shadow: 0px 1px 2px rgba(60, 64, 67, 0.3), 0px 1px 3px 1px rgba(60, 64, 67, 0.15);\n",
              "      fill: #174EA6;\n",
              "    }\n",
              "\n",
              "    [theme=dark] .colab-df-convert {\n",
              "      background-color: #3B4455;\n",
              "      fill: #D2E3FC;\n",
              "    }\n",
              "\n",
              "    [theme=dark] .colab-df-convert:hover {\n",
              "      background-color: #434B5C;\n",
              "      box-shadow: 0px 1px 3px 1px rgba(0, 0, 0, 0.15);\n",
              "      filter: drop-shadow(0px 1px 2px rgba(0, 0, 0, 0.3));\n",
              "      fill: #FFFFFF;\n",
              "    }\n",
              "  </style>\n",
              "\n",
              "      <script>\n",
              "        const buttonEl =\n",
              "          document.querySelector('#df-57a89041-6d2c-45a7-a794-2e1d3f60df8d button.colab-df-convert');\n",
              "        buttonEl.style.display =\n",
              "          google.colab.kernel.accessAllowed ? 'block' : 'none';\n",
              "\n",
              "        async function convertToInteractive(key) {\n",
              "          const element = document.querySelector('#df-57a89041-6d2c-45a7-a794-2e1d3f60df8d');\n",
              "          const dataTable =\n",
              "            await google.colab.kernel.invokeFunction('convertToInteractive',\n",
              "                                                     [key], {});\n",
              "          if (!dataTable) return;\n",
              "\n",
              "          const docLinkHtml = 'Like what you see? Visit the ' +\n",
              "            '<a target=\"_blank\" href=https://colab.research.google.com/notebooks/data_table.ipynb>data table notebook</a>'\n",
              "            + ' to learn more about interactive tables.';\n",
              "          element.innerHTML = '';\n",
              "          dataTable['output_type'] = 'display_data';\n",
              "          await google.colab.output.renderOutput(dataTable, element);\n",
              "          const docLink = document.createElement('div');\n",
              "          docLink.innerHTML = docLinkHtml;\n",
              "          element.appendChild(docLink);\n",
              "        }\n",
              "      </script>\n",
              "    </div>\n",
              "  </div>\n",
              "  "
            ]
          },
          "metadata": {}
        },
        {
          "output_type": "display_data",
          "data": {
            "text/plain": [
              "<Figure size 640x480 with 2 Axes>"
            ],
            "image/png": "[encoded data removed]"
          },
          "metadata": {}
        },
        {
          "output_type": "display_data",
          "data": {
            "text/plain": [
              "<Figure size 640x480 with 2 Axes>"
            ],
            "image/png": "[encoded data removed]"
          },
          "metadata": {}
        }
      ]
    },
    {
      "cell_type": "code",
      "source": [
        "#Cambio hiper-parametros regresión logística\n",
        "\n",
        "from sklearn.model_selection import GridSearchCV\n",
        "\n",
        "param_grid = {\n",
        "    'classifier__C': [0.1, 1, 10],\n",
        "    'classifier__penalty': ['l2'],\n",
        "    'classifier__solver': ['liblinear', 'lbfgs', 'saga', 'newton-cg'],\n",
        "    'classifier__max_iter': [100, 200, 300],\n",
        "}\n",
        "\n",
        "grid_search = GridSearchCV(lr_model_si, param_grid, cv=5)\n",
        "grid_search.fit(train, train.winner)\n",
        "\n",
        "best_model = grid_search.best_estimator_\n",
        "\n",
        "y_pred = best_model.predict(validation)\n",
        "evaluate_model(best_model, title='LR best model', show_cm=True)\n"
      ],
      "metadata": {
        "id": "q7NLh5Z9AS42",
        "colab": {
          "base_uri": "https://localhost:8080/",
          "height": 1000
        },
        "outputId": "5e2e9ce0-c17f-4cbb-a7d3-915cb9d0c6d9"
      },
      "execution_count": 25,
      "outputs": [
        {
          "output_type": "stream",
          "name": "stderr",
          "text": [
            "/usr/local/lib/python3.10/dist-packages/scipy/optimize/_linesearch.py:306: LineSearchWarning: The line search algorithm did not converge\n",
            "  warn('The line search algorithm did not converge', LineSearchWarning)\n",
            "/usr/local/lib/python3.10/dist-packages/sklearn/utils/optimize.py:203: UserWarning: Line Search failed\n",
            "  warnings.warn(\"Line Search failed\")\n",
            "/usr/local/lib/python3.10/dist-packages/scipy/optimize/_linesearch.py:306: LineSearchWarning: The line search algorithm did not converge\n",
            "  warn('The line search algorithm did not converge', LineSearchWarning)\n",
            "/usr/local/lib/python3.10/dist-packages/sklearn/utils/optimize.py:203: UserWarning: Line Search failed\n",
            "  warnings.warn(\"Line Search failed\")\n",
            "/usr/local/lib/python3.10/dist-packages/scipy/optimize/_linesearch.py:306: LineSearchWarning: The line search algorithm did not converge\n",
            "  warn('The line search algorithm did not converge', LineSearchWarning)\n",
            "/usr/local/lib/python3.10/dist-packages/sklearn/utils/optimize.py:203: UserWarning: Line Search failed\n",
            "  warnings.warn(\"Line Search failed\")\n"
          ]
        },
        {
          "output_type": "display_data",
          "data": {
            "text/plain": [
              "'LR best model'"
            ],
            "application/vnd.google.colaboratory.intrinsic+json": {
              "type": "string"
            }
          },
          "metadata": {}
        },
        {
          "output_type": "display_data",
          "data": {
            "text/plain": [
              "            Accuracy\n",
              "train       0.643958\n",
              "validation  0.645756"
            ],
            "text/html": [
              "\n",
              "  <div id=\"df-d87ab3f0-c01c-48e8-a541-5d4ef3d9b3ab\">\n",
              "    <div class=\"colab-df-container\">\n",
              "      <div>\n",
              "<style scoped>\n",
              "    .dataframe tbody tr th:only-of-type {\n",
              "        vertical-align: middle;\n",
              "    }\n",
              "\n",
              "    .dataframe tbody tr th {\n",
              "        vertical-align: top;\n",
              "    }\n",
              "\n",
              "    .dataframe thead th {\n",
              "        text-align: right;\n",
              "    }\n",
              "</style>\n",
              "<table border=\"1\" class=\"dataframe\">\n",
              "  <thead>\n",
              "    <tr style=\"text-align: right;\">\n",
              "      <th></th>\n",
              "      <th>Accuracy</th>\n",
              "    </tr>\n",
              "  </thead>\n",
              "  <tbody>\n",
              "    <tr>\n",
              "      <th>train</th>\n",
              "      <td>0.643958</td>\n",
              "    </tr>\n",
              "    <tr>\n",
              "      <th>validation</th>\n",
              "      <td>0.645756</td>\n",
              "    </tr>\n",
              "  </tbody>\n",
              "</table>\n",
              "</div>\n",
              "      <button class=\"colab-df-convert\" onclick=\"convertToInteractive('df-d87ab3f0-c01c-48e8-a541-5d4ef3d9b3ab')\"\n",
              "              title=\"Convert this dataframe to an interactive table.\"\n",
              "              style=\"display:none;\">\n",
              "        \n",
              "  <svg xmlns=\"http://www.w3.org/2000/svg\" height=\"24px\"viewBox=\"0 0 24 24\"\n",
              "       width=\"24px\">\n",
              "    <path d=\"M0 0h24v24H0V0z\" fill=\"none\"/>\n",
              "    <path d=\"M18.56 5.44l.94 2.06.94-2.06 2.06-.94-2.06-.94-.94-2.06-.94 2.06-2.06.94zm-11 1L8.5 8.5l.94-2.06 2.06-.94-2.06-.94L8.5 2.5l-.94 2.06-2.06.94zm10 10l.94 2.06.94-2.06 2.06-.94-2.06-.94-.94-2.06-.94 2.06-2.06.94z\"/><path d=\"M17.41 7.96l-1.37-1.37c-.4-.4-.92-.59-1.43-.59-.52 0-1.04.2-1.43.59L10.3 9.45l-7.72 7.72c-.78.78-.78 2.05 0 2.83L4 21.41c.39.39.9.59 1.41.59.51 0 1.02-.2 1.41-.59l7.78-7.78 2.81-2.81c.8-.78.8-2.07 0-2.86zM5.41 20L4 18.59l7.72-7.72 1.47 1.35L5.41 20z\"/>\n",
              "  </svg>\n",
              "      </button>\n",
              "      \n",
              "  <style>\n",
              "    .colab-df-container {\n",
              "      display:flex;\n",
              "      flex-wrap:wrap;\n",
              "      gap: 12px;\n",
              "    }\n",
              "\n",
              "    .colab-df-convert {\n",
              "      background-color: #E8F0FE;\n",
              "      border: none;\n",
              "      border-radius: 50%;\n",
              "      cursor: pointer;\n",
              "      display: none;\n",
              "      fill: #1967D2;\n",
              "      height: 32px;\n",
              "      padding: 0 0 0 0;\n",
              "      width: 32px;\n",
              "    }\n",
              "\n",
              "    .colab-df-convert:hover {\n",
              "      background-color: #E2EBFA;\n",
              "      box-shadow: 0px 1px 2px rgba(60, 64, 67, 0.3), 0px 1px 3px 1px rgba(60, 64, 67, 0.15);\n",
              "      fill: #174EA6;\n",
              "    }\n",
              "\n",
              "    [theme=dark] .colab-df-convert {\n",
              "      background-color: #3B4455;\n",
              "      fill: #D2E3FC;\n",
              "    }\n",
              "\n",
              "    [theme=dark] .colab-df-convert:hover {\n",
              "      background-color: #434B5C;\n",
              "      box-shadow: 0px 1px 3px 1px rgba(0, 0, 0, 0.15);\n",
              "      filter: drop-shadow(0px 1px 2px rgba(0, 0, 0, 0.3));\n",
              "      fill: #FFFFFF;\n",
              "    }\n",
              "  </style>\n",
              "\n",
              "      <script>\n",
              "        const buttonEl =\n",
              "          document.querySelector('#df-d87ab3f0-c01c-48e8-a541-5d4ef3d9b3ab button.colab-df-convert');\n",
              "        buttonEl.style.display =\n",
              "          google.colab.kernel.accessAllowed ? 'block' : 'none';\n",
              "\n",
              "        async function convertToInteractive(key) {\n",
              "          const element = document.querySelector('#df-d87ab3f0-c01c-48e8-a541-5d4ef3d9b3ab');\n",
              "          const dataTable =\n",
              "            await google.colab.kernel.invokeFunction('convertToInteractive',\n",
              "                                                     [key], {});\n",
              "          if (!dataTable) return;\n",
              "\n",
              "          const docLinkHtml = 'Like what you see? Visit the ' +\n",
              "            '<a target=\"_blank\" href=https://colab.research.google.com/notebooks/data_table.ipynb>data table notebook</a>'\n",
              "            + ' to learn more about interactive tables.';\n",
              "          element.innerHTML = '';\n",
              "          dataTable['output_type'] = 'display_data';\n",
              "          await google.colab.output.renderOutput(dataTable, element);\n",
              "          const docLink = document.createElement('div');\n",
              "          docLink.innerHTML = docLinkHtml;\n",
              "          element.appendChild(docLink);\n",
              "        }\n",
              "      </script>\n",
              "    </div>\n",
              "  </div>\n",
              "  "
            ]
          },
          "metadata": {}
        },
        {
          "output_type": "display_data",
          "data": {
            "text/plain": [
              "<Figure size 640x480 with 2 Axes>"
            ],
            "image/png": "[encoded data removed]"
          },
          "metadata": {}
        },
        {
          "output_type": "display_data",
          "data": {
            "text/plain": [
              "<Figure size 640x480 with 2 Axes>"
            ],
            "image/png": "[encoded data removed]"
          },
          "metadata": {}
        }
      ]
    },
    {
      "cell_type": "markdown",
      "source": [
        "* Con el modelo de regresión logística el valor de accuracy es de 0.64 sobre el conjunto de los datos tanto cuando no usamos FE, como cuando la usamos y cuando utilizamos Hiper Parametros. Es decir, en el 64% de los casos se acertará el ganador. \n",
        "\n",
        "\n"
      ],
      "metadata": {
        "id": "9mmEoIADQvx9"
      }
    },
    {
      "cell_type": "markdown",
      "source": [
        "# KNN "
      ],
      "metadata": {
        "id": "hNSIxHDln6Y1"
      }
    },
    {
      "cell_type": "code",
      "source": [
        "#K nearest neighbors sin FE\n",
        "\n",
        "from sklearn.neighbors import KNeighborsClassifier\n",
        "K = 10\n",
        "\n",
        "knn_model = Pipeline([\n",
        "    ('mapper', mapper),\n",
        "    ('imputer', IterativeImputer(random_state=42)),\n",
        "    ('classifier', KNeighborsClassifier(n_neighbors=K)),\n",
        "])\n",
        "\n",
        "knn_model.fit(train, train.winner)\n",
        "\n",
        "evaluate_model(knn_model, title='Knn')"
      ],
      "metadata": {
        "id": "KAkwDs9tQWMn",
        "colab": {
          "base_uri": "https://localhost:8080/",
          "height": 131
        },
        "outputId": "59efd103-b5bd-487e-9b2c-6f776bf41d3a"
      },
      "execution_count": 26,
      "outputs": [
        {
          "output_type": "display_data",
          "data": {
            "text/plain": [
              "'Knn'"
            ],
            "application/vnd.google.colaboratory.intrinsic+json": {
              "type": "string"
            }
          },
          "metadata": {}
        },
        {
          "output_type": "display_data",
          "data": {
            "text/plain": [
              "            Accuracy\n",
              "train       0.685827\n",
              "validation  0.601651"
            ],
            "text/html": [
              "\n",
              "  <div id=\"df-8dddcfc4-03ae-45b6-99f7-3a5c6b6c38fb\">\n",
              "    <div class=\"colab-df-container\">\n",
              "      <div>\n",
              "<style scoped>\n",
              "    .dataframe tbody tr th:only-of-type {\n",
              "        vertical-align: middle;\n",
              "    }\n",
              "\n",
              "    .dataframe tbody tr th {\n",
              "        vertical-align: top;\n",
              "    }\n",
              "\n",
              "    .dataframe thead th {\n",
              "        text-align: right;\n",
              "    }\n",
              "</style>\n",
              "<table border=\"1\" class=\"dataframe\">\n",
              "  <thead>\n",
              "    <tr style=\"text-align: right;\">\n",
              "      <th></th>\n",
              "      <th>Accuracy</th>\n",
              "    </tr>\n",
              "  </thead>\n",
              "  <tbody>\n",
              "    <tr>\n",
              "      <th>train</th>\n",
              "      <td>0.685827</td>\n",
              "    </tr>\n",
              "    <tr>\n",
              "      <th>validation</th>\n",
              "      <td>0.601651</td>\n",
              "    </tr>\n",
              "  </tbody>\n",
              "</table>\n",
              "</div>\n",
              "      <button class=\"colab-df-convert\" onclick=\"convertToInteractive('df-8dddcfc4-03ae-45b6-99f7-3a5c6b6c38fb')\"\n",
              "              title=\"Convert this dataframe to an interactive table.\"\n",
              "              style=\"display:none;\">\n",
              "        \n",
              "  <svg xmlns=\"http://www.w3.org/2000/svg\" height=\"24px\"viewBox=\"0 0 24 24\"\n",
              "       width=\"24px\">\n",
              "    <path d=\"M0 0h24v24H0V0z\" fill=\"none\"/>\n",
              "    <path d=\"M18.56 5.44l.94 2.06.94-2.06 2.06-.94-2.06-.94-.94-2.06-.94 2.06-2.06.94zm-11 1L8.5 8.5l.94-2.06 2.06-.94-2.06-.94L8.5 2.5l-.94 2.06-2.06.94zm10 10l.94 2.06.94-2.06 2.06-.94-2.06-.94-.94-2.06-.94 2.06-2.06.94z\"/><path d=\"M17.41 7.96l-1.37-1.37c-.4-.4-.92-.59-1.43-.59-.52 0-1.04.2-1.43.59L10.3 9.45l-7.72 7.72c-.78.78-.78 2.05 0 2.83L4 21.41c.39.39.9.59 1.41.59.51 0 1.02-.2 1.41-.59l7.78-7.78 2.81-2.81c.8-.78.8-2.07 0-2.86zM5.41 20L4 18.59l7.72-7.72 1.47 1.35L5.41 20z\"/>\n",
              "  </svg>\n",
              "      </button>\n",
              "      \n",
              "  <style>\n",
              "    .colab-df-container {\n",
              "      display:flex;\n",
              "      flex-wrap:wrap;\n",
              "      gap: 12px;\n",
              "    }\n",
              "\n",
              "    .colab-df-convert {\n",
              "      background-color: #E8F0FE;\n",
              "      border: none;\n",
              "      border-radius: 50%;\n",
              "      cursor: pointer;\n",
              "      display: none;\n",
              "      fill: #1967D2;\n",
              "      height: 32px;\n",
              "      padding: 0 0 0 0;\n",
              "      width: 32px;\n",
              "    }\n",
              "\n",
              "    .colab-df-convert:hover {\n",
              "      background-color: #E2EBFA;\n",
              "      box-shadow: 0px 1px 2px rgba(60, 64, 67, 0.3), 0px 1px 3px 1px rgba(60, 64, 67, 0.15);\n",
              "      fill: #174EA6;\n",
              "    }\n",
              "\n",
              "    [theme=dark] .colab-df-convert {\n",
              "      background-color: #3B4455;\n",
              "      fill: #D2E3FC;\n",
              "    }\n",
              "\n",
              "    [theme=dark] .colab-df-convert:hover {\n",
              "      background-color: #434B5C;\n",
              "      box-shadow: 0px 1px 3px 1px rgba(0, 0, 0, 0.15);\n",
              "      filter: drop-shadow(0px 1px 2px rgba(0, 0, 0, 0.3));\n",
              "      fill: #FFFFFF;\n",
              "    }\n",
              "  </style>\n",
              "\n",
              "      <script>\n",
              "        const buttonEl =\n",
              "          document.querySelector('#df-8dddcfc4-03ae-45b6-99f7-3a5c6b6c38fb button.colab-df-convert');\n",
              "        buttonEl.style.display =\n",
              "          google.colab.kernel.accessAllowed ? 'block' : 'none';\n",
              "\n",
              "        async function convertToInteractive(key) {\n",
              "          const element = document.querySelector('#df-8dddcfc4-03ae-45b6-99f7-3a5c6b6c38fb');\n",
              "          const dataTable =\n",
              "            await google.colab.kernel.invokeFunction('convertToInteractive',\n",
              "                                                     [key], {});\n",
              "          if (!dataTable) return;\n",
              "\n",
              "          const docLinkHtml = 'Like what you see? Visit the ' +\n",
              "            '<a target=\"_blank\" href=https://colab.research.google.com/notebooks/data_table.ipynb>data table notebook</a>'\n",
              "            + ' to learn more about interactive tables.';\n",
              "          element.innerHTML = '';\n",
              "          dataTable['output_type'] = 'display_data';\n",
              "          await google.colab.output.renderOutput(dataTable, element);\n",
              "          const docLink = document.createElement('div');\n",
              "          docLink.innerHTML = docLinkHtml;\n",
              "          element.appendChild(docLink);\n",
              "        }\n",
              "      </script>\n",
              "    </div>\n",
              "  </div>\n",
              "  "
            ]
          },
          "metadata": {}
        }
      ]
    },
    {
      "cell_type": "code",
      "source": [
        "#K nearest neighbors con FE\n",
        "\n",
        "from sklearn.neighbors import KNeighborsClassifier\n",
        "K = 10\n",
        "\n",
        "knn_model = Pipeline([\n",
        "    ('mapper', mapper_fe),\n",
        "    ('imputer', IterativeImputer(random_state=42)),\n",
        "    ('classifier', KNeighborsClassifier(n_neighbors=K)),\n",
        "])\n",
        "\n",
        "knn_model.fit(train, train.winner)\n",
        "\n",
        "evaluate_model(knn_model, title='Knn')"
      ],
      "metadata": {
        "id": "gvbjg_kr15B7",
        "colab": {
          "base_uri": "https://localhost:8080/",
          "height": 131
        },
        "outputId": "46cf2927-8296-47b2-8c92-6c519b92c6ad"
      },
      "execution_count": 27,
      "outputs": [
        {
          "output_type": "display_data",
          "data": {
            "text/plain": [
              "'Knn'"
            ],
            "application/vnd.google.colaboratory.intrinsic+json": {
              "type": "string"
            }
          },
          "metadata": {}
        },
        {
          "output_type": "display_data",
          "data": {
            "text/plain": [
              "            Accuracy\n",
              "train       0.687860\n",
              "validation  0.605419"
            ],
            "text/html": [
              "\n",
              "  <div id=\"df-c82532a7-1d92-4c52-a9e7-ba200c0d7871\">\n",
              "    <div class=\"colab-df-container\">\n",
              "      <div>\n",
              "<style scoped>\n",
              "    .dataframe tbody tr th:only-of-type {\n",
              "        vertical-align: middle;\n",
              "    }\n",
              "\n",
              "    .dataframe tbody tr th {\n",
              "        vertical-align: top;\n",
              "    }\n",
              "\n",
              "    .dataframe thead th {\n",
              "        text-align: right;\n",
              "    }\n",
              "</style>\n",
              "<table border=\"1\" class=\"dataframe\">\n",
              "  <thead>\n",
              "    <tr style=\"text-align: right;\">\n",
              "      <th></th>\n",
              "      <th>Accuracy</th>\n",
              "    </tr>\n",
              "  </thead>\n",
              "  <tbody>\n",
              "    <tr>\n",
              "      <th>train</th>\n",
              "      <td>0.687860</td>\n",
              "    </tr>\n",
              "    <tr>\n",
              "      <th>validation</th>\n",
              "      <td>0.605419</td>\n",
              "    </tr>\n",
              "  </tbody>\n",
              "</table>\n",
              "</div>\n",
              "      <button class=\"colab-df-convert\" onclick=\"convertToInteractive('df-c82532a7-1d92-4c52-a9e7-ba200c0d7871')\"\n",
              "              title=\"Convert this dataframe to an interactive table.\"\n",
              "              style=\"display:none;\">\n",
              "        \n",
              "  <svg xmlns=\"http://www.w3.org/2000/svg\" height=\"24px\"viewBox=\"0 0 24 24\"\n",
              "       width=\"24px\">\n",
              "    <path d=\"M0 0h24v24H0V0z\" fill=\"none\"/>\n",
              "    <path d=\"M18.56 5.44l.94 2.06.94-2.06 2.06-.94-2.06-.94-.94-2.06-.94 2.06-2.06.94zm-11 1L8.5 8.5l.94-2.06 2.06-.94-2.06-.94L8.5 2.5l-.94 2.06-2.06.94zm10 10l.94 2.06.94-2.06 2.06-.94-2.06-.94-.94-2.06-.94 2.06-2.06.94z\"/><path d=\"M17.41 7.96l-1.37-1.37c-.4-.4-.92-.59-1.43-.59-.52 0-1.04.2-1.43.59L10.3 9.45l-7.72 7.72c-.78.78-.78 2.05 0 2.83L4 21.41c.39.39.9.59 1.41.59.51 0 1.02-.2 1.41-.59l7.78-7.78 2.81-2.81c.8-.78.8-2.07 0-2.86zM5.41 20L4 18.59l7.72-7.72 1.47 1.35L5.41 20z\"/>\n",
              "  </svg>\n",
              "      </button>\n",
              "      \n",
              "  <style>\n",
              "    .colab-df-container {\n",
              "      display:flex;\n",
              "      flex-wrap:wrap;\n",
              "      gap: 12px;\n",
              "    }\n",
              "\n",
              "    .colab-df-convert {\n",
              "      background-color: #E8F0FE;\n",
              "      border: none;\n",
              "      border-radius: 50%;\n",
              "      cursor: pointer;\n",
              "      display: none;\n",
              "      fill: #1967D2;\n",
              "      height: 32px;\n",
              "      padding: 0 0 0 0;\n",
              "      width: 32px;\n",
              "    }\n",
              "\n",
              "    .colab-df-convert:hover {\n",
              "      background-color: #E2EBFA;\n",
              "      box-shadow: 0px 1px 2px rgba(60, 64, 67, 0.3), 0px 1px 3px 1px rgba(60, 64, 67, 0.15);\n",
              "      fill: #174EA6;\n",
              "    }\n",
              "\n",
              "    [theme=dark] .colab-df-convert {\n",
              "      background-color: #3B4455;\n",
              "      fill: #D2E3FC;\n",
              "    }\n",
              "\n",
              "    [theme=dark] .colab-df-convert:hover {\n",
              "      background-color: #434B5C;\n",
              "      box-shadow: 0px 1px 3px 1px rgba(0, 0, 0, 0.15);\n",
              "      filter: drop-shadow(0px 1px 2px rgba(0, 0, 0, 0.3));\n",
              "      fill: #FFFFFF;\n",
              "    }\n",
              "  </style>\n",
              "\n",
              "      <script>\n",
              "        const buttonEl =\n",
              "          document.querySelector('#df-c82532a7-1d92-4c52-a9e7-ba200c0d7871 button.colab-df-convert');\n",
              "        buttonEl.style.display =\n",
              "          google.colab.kernel.accessAllowed ? 'block' : 'none';\n",
              "\n",
              "        async function convertToInteractive(key) {\n",
              "          const element = document.querySelector('#df-c82532a7-1d92-4c52-a9e7-ba200c0d7871');\n",
              "          const dataTable =\n",
              "            await google.colab.kernel.invokeFunction('convertToInteractive',\n",
              "                                                     [key], {});\n",
              "          if (!dataTable) return;\n",
              "\n",
              "          const docLinkHtml = 'Like what you see? Visit the ' +\n",
              "            '<a target=\"_blank\" href=https://colab.research.google.com/notebooks/data_table.ipynb>data table notebook</a>'\n",
              "            + ' to learn more about interactive tables.';\n",
              "          element.innerHTML = '';\n",
              "          dataTable['output_type'] = 'display_data';\n",
              "          await google.colab.output.renderOutput(dataTable, element);\n",
              "          const docLink = document.createElement('div');\n",
              "          docLink.innerHTML = docLinkHtml;\n",
              "          element.appendChild(docLink);\n",
              "        }\n",
              "      </script>\n",
              "    </div>\n",
              "  </div>\n",
              "  "
            ]
          },
          "metadata": {}
        }
      ]
    },
    {
      "cell_type": "code",
      "source": [
        "#knn con hiper-parametros\n",
        "\n",
        "from sklearn.neighbors import KNeighborsClassifier\n",
        "\n",
        "K = 5  # Cambia el valor de K según tus necesidades\n",
        "\n",
        "knn_model = Pipeline([\n",
        "    ('mapper', mapper),\n",
        "    ('imputer', IterativeImputer(random_state=42)),\n",
        "    ('classifier', KNeighborsClassifier(n_neighbors=K)),\n",
        "])\n",
        "\n",
        "knn_model.fit(train, train.winner)\n",
        "\n",
        "evaluate_model(knn_model, title='Knn')\n"
      ],
      "metadata": {
        "id": "MVPggspBD_V1",
        "colab": {
          "base_uri": "https://localhost:8080/",
          "height": 131
        },
        "outputId": "b7464290-2b1d-4d04-aba7-d03e86125cd9"
      },
      "execution_count": 28,
      "outputs": [
        {
          "output_type": "display_data",
          "data": {
            "text/plain": [
              "'Knn'"
            ],
            "application/vnd.google.colaboratory.intrinsic+json": {
              "type": "string"
            }
          },
          "metadata": {}
        },
        {
          "output_type": "display_data",
          "data": {
            "text/plain": [
              "            Accuracy\n",
              "train       0.732588\n",
              "validation  0.588588"
            ],
            "text/html": [
              "\n",
              "  <div id=\"df-4957b0ec-9c47-4714-a4d4-a0ccae1e01be\">\n",
              "    <div class=\"colab-df-container\">\n",
              "      <div>\n",
              "<style scoped>\n",
              "    .dataframe tbody tr th:only-of-type {\n",
              "        vertical-align: middle;\n",
              "    }\n",
              "\n",
              "    .dataframe tbody tr th {\n",
              "        vertical-align: top;\n",
              "    }\n",
              "\n",
              "    .dataframe thead th {\n",
              "        text-align: right;\n",
              "    }\n",
              "</style>\n",
              "<table border=\"1\" class=\"dataframe\">\n",
              "  <thead>\n",
              "    <tr style=\"text-align: right;\">\n",
              "      <th></th>\n",
              "      <th>Accuracy</th>\n",
              "    </tr>\n",
              "  </thead>\n",
              "  <tbody>\n",
              "    <tr>\n",
              "      <th>train</th>\n",
              "      <td>0.732588</td>\n",
              "    </tr>\n",
              "    <tr>\n",
              "      <th>validation</th>\n",
              "      <td>0.588588</td>\n",
              "    </tr>\n",
              "  </tbody>\n",
              "</table>\n",
              "</div>\n",
              "      <button class=\"colab-df-convert\" onclick=\"convertToInteractive('df-4957b0ec-9c47-4714-a4d4-a0ccae1e01be')\"\n",
              "              title=\"Convert this dataframe to an interactive table.\"\n",
              "              style=\"display:none;\">\n",
              "        \n",
              "  <svg xmlns=\"http://www.w3.org/2000/svg\" height=\"24px\"viewBox=\"0 0 24 24\"\n",
              "       width=\"24px\">\n",
              "    <path d=\"M0 0h24v24H0V0z\" fill=\"none\"/>\n",
              "    <path d=\"M18.56 5.44l.94 2.06.94-2.06 2.06-.94-2.06-.94-.94-2.06-.94 2.06-2.06.94zm-11 1L8.5 8.5l.94-2.06 2.06-.94-2.06-.94L8.5 2.5l-.94 2.06-2.06.94zm10 10l.94 2.06.94-2.06 2.06-.94-2.06-.94-.94-2.06-.94 2.06-2.06.94z\"/><path d=\"M17.41 7.96l-1.37-1.37c-.4-.4-.92-.59-1.43-.59-.52 0-1.04.2-1.43.59L10.3 9.45l-7.72 7.72c-.78.78-.78 2.05 0 2.83L4 21.41c.39.39.9.59 1.41.59.51 0 1.02-.2 1.41-.59l7.78-7.78 2.81-2.81c.8-.78.8-2.07 0-2.86zM5.41 20L4 18.59l7.72-7.72 1.47 1.35L5.41 20z\"/>\n",
              "  </svg>\n",
              "      </button>\n",
              "      \n",
              "  <style>\n",
              "    .colab-df-container {\n",
              "      display:flex;\n",
              "      flex-wrap:wrap;\n",
              "      gap: 12px;\n",
              "    }\n",
              "\n",
              "    .colab-df-convert {\n",
              "      background-color: #E8F0FE;\n",
              "      border: none;\n",
              "      border-radius: 50%;\n",
              "      cursor: pointer;\n",
              "      display: none;\n",
              "      fill: #1967D2;\n",
              "      height: 32px;\n",
              "      padding: 0 0 0 0;\n",
              "      width: 32px;\n",
              "    }\n",
              "\n",
              "    .colab-df-convert:hover {\n",
              "      background-color: #E2EBFA;\n",
              "      box-shadow: 0px 1px 2px rgba(60, 64, 67, 0.3), 0px 1px 3px 1px rgba(60, 64, 67, 0.15);\n",
              "      fill: #174EA6;\n",
              "    }\n",
              "\n",
              "    [theme=dark] .colab-df-convert {\n",
              "      background-color: #3B4455;\n",
              "      fill: #D2E3FC;\n",
              "    }\n",
              "\n",
              "    [theme=dark] .colab-df-convert:hover {\n",
              "      background-color: #434B5C;\n",
              "      box-shadow: 0px 1px 3px 1px rgba(0, 0, 0, 0.15);\n",
              "      filter: drop-shadow(0px 1px 2px rgba(0, 0, 0, 0.3));\n",
              "      fill: #FFFFFF;\n",
              "    }\n",
              "  </style>\n",
              "\n",
              "      <script>\n",
              "        const buttonEl =\n",
              "          document.querySelector('#df-4957b0ec-9c47-4714-a4d4-a0ccae1e01be button.colab-df-convert');\n",
              "        buttonEl.style.display =\n",
              "          google.colab.kernel.accessAllowed ? 'block' : 'none';\n",
              "\n",
              "        async function convertToInteractive(key) {\n",
              "          const element = document.querySelector('#df-4957b0ec-9c47-4714-a4d4-a0ccae1e01be');\n",
              "          const dataTable =\n",
              "            await google.colab.kernel.invokeFunction('convertToInteractive',\n",
              "                                                     [key], {});\n",
              "          if (!dataTable) return;\n",
              "\n",
              "          const docLinkHtml = 'Like what you see? Visit the ' +\n",
              "            '<a target=\"_blank\" href=https://colab.research.google.com/notebooks/data_table.ipynb>data table notebook</a>'\n",
              "            + ' to learn more about interactive tables.';\n",
              "          element.innerHTML = '';\n",
              "          dataTable['output_type'] = 'display_data';\n",
              "          await google.colab.output.renderOutput(dataTable, element);\n",
              "          const docLink = document.createElement('div');\n",
              "          docLink.innerHTML = docLinkHtml;\n",
              "          element.appendChild(docLink);\n",
              "        }\n",
              "      </script>\n",
              "    </div>\n",
              "  </div>\n",
              "  "
            ]
          },
          "metadata": {}
        }
      ]
    },
    {
      "cell_type": "markdown",
      "source": [
        "* Utilizando para este modelo la FE encontramos el mismo valor de accuracy tanto para train como para validation, arrojando un 0.685827 y 0.601651 respectivamente. \n",
        "No encontramos los mismos datos utilizando Hiper Parámetros, ya que el valor de accuracy es de un 0.732588 en el conjunto de datos train y 0.588588 en validation. \n",
        "\n",
        "* Llegamos a la conclusion de que el modelo KNN con Hiper Parámetros muestra un rendimiento más alto en el conjunto de entrenamiento, pero un rendimiento inferior en el conjunto de validación, lo que indica la posibilidad de sobreajuste."
      ],
      "metadata": {
        "id": "0N6oesk-Q6Lc"
      }
    },
    {
      "cell_type": "markdown",
      "source": [
        "# Random Forest"
      ],
      "metadata": {
        "id": "rcFGvwgeoPb2"
      }
    },
    {
      "cell_type": "code",
      "source": [
        "#Random Forests sin FE\n",
        "\n",
        "from sklearn.ensemble import RandomForestClassifier\n",
        "forest_model = RandomForestClassifier(random_state=42)\n",
        "# n_estimators? max_depth=3?, max_features=2?\n",
        "\n",
        "rf_model = Pipeline([\n",
        "    ('mapper', mapper),\n",
        "    ('imputer', IterativeImputer(random_state=42)),\n",
        "    ('classifier', forest_model),\n",
        "])\n",
        "\n",
        "rf_model.fit(train, train.winner)\n",
        "\n",
        "evaluate_model(rf_model, title='Random Forest')"
      ],
      "metadata": {
        "id": "Y7qHFmQQ1eHZ",
        "colab": {
          "base_uri": "https://localhost:8080/",
          "height": 131
        },
        "outputId": "2ba31f68-f0b7-43e6-9cf8-f22fcd8b0d29"
      },
      "execution_count": 29,
      "outputs": [
        {
          "output_type": "display_data",
          "data": {
            "text/plain": [
              "'Random Forest'"
            ],
            "application/vnd.google.colaboratory.intrinsic+json": {
              "type": "string"
            }
          },
          "metadata": {}
        },
        {
          "output_type": "display_data",
          "data": {
            "text/plain": [
              "            Accuracy\n",
              "train       0.999880\n",
              "validation  0.646079"
            ],
            "text/html": [
              "\n",
              "  <div id=\"df-93e61654-32af-4f0e-acf0-997b56e095d0\">\n",
              "    <div class=\"colab-df-container\">\n",
              "      <div>\n",
              "<style scoped>\n",
              "    .dataframe tbody tr th:only-of-type {\n",
              "        vertical-align: middle;\n",
              "    }\n",
              "\n",
              "    .dataframe tbody tr th {\n",
              "        vertical-align: top;\n",
              "    }\n",
              "\n",
              "    .dataframe thead th {\n",
              "        text-align: right;\n",
              "    }\n",
              "</style>\n",
              "<table border=\"1\" class=\"dataframe\">\n",
              "  <thead>\n",
              "    <tr style=\"text-align: right;\">\n",
              "      <th></th>\n",
              "      <th>Accuracy</th>\n",
              "    </tr>\n",
              "  </thead>\n",
              "  <tbody>\n",
              "    <tr>\n",
              "      <th>train</th>\n",
              "      <td>0.999880</td>\n",
              "    </tr>\n",
              "    <tr>\n",
              "      <th>validation</th>\n",
              "      <td>0.646079</td>\n",
              "    </tr>\n",
              "  </tbody>\n",
              "</table>\n",
              "</div>\n",
              "      <button class=\"colab-df-convert\" onclick=\"convertToInteractive('df-93e61654-32af-4f0e-acf0-997b56e095d0')\"\n",
              "              title=\"Convert this dataframe to an interactive table.\"\n",
              "              style=\"display:none;\">\n",
              "        \n",
              "  <svg xmlns=\"http://www.w3.org/2000/svg\" height=\"24px\"viewBox=\"0 0 24 24\"\n",
              "       width=\"24px\">\n",
              "    <path d=\"M0 0h24v24H0V0z\" fill=\"none\"/>\n",
              "    <path d=\"M18.56 5.44l.94 2.06.94-2.06 2.06-.94-2.06-.94-.94-2.06-.94 2.06-2.06.94zm-11 1L8.5 8.5l.94-2.06 2.06-.94-2.06-.94L8.5 2.5l-.94 2.06-2.06.94zm10 10l.94 2.06.94-2.06 2.06-.94-2.06-.94-.94-2.06-.94 2.06-2.06.94z\"/><path d=\"M17.41 7.96l-1.37-1.37c-.4-.4-.92-.59-1.43-.59-.52 0-1.04.2-1.43.59L10.3 9.45l-7.72 7.72c-.78.78-.78 2.05 0 2.83L4 21.41c.39.39.9.59 1.41.59.51 0 1.02-.2 1.41-.59l7.78-7.78 2.81-2.81c.8-.78.8-2.07 0-2.86zM5.41 20L4 18.59l7.72-7.72 1.47 1.35L5.41 20z\"/>\n",
              "  </svg>\n",
              "      </button>\n",
              "      \n",
              "  <style>\n",
              "    .colab-df-container {\n",
              "      display:flex;\n",
              "      flex-wrap:wrap;\n",
              "      gap: 12px;\n",
              "    }\n",
              "\n",
              "    .colab-df-convert {\n",
              "      background-color: #E8F0FE;\n",
              "      border: none;\n",
              "      border-radius: 50%;\n",
              "      cursor: pointer;\n",
              "      display: none;\n",
              "      fill: #1967D2;\n",
              "      height: 32px;\n",
              "      padding: 0 0 0 0;\n",
              "      width: 32px;\n",
              "    }\n",
              "\n",
              "    .colab-df-convert:hover {\n",
              "      background-color: #E2EBFA;\n",
              "      box-shadow: 0px 1px 2px rgba(60, 64, 67, 0.3), 0px 1px 3px 1px rgba(60, 64, 67, 0.15);\n",
              "      fill: #174EA6;\n",
              "    }\n",
              "\n",
              "    [theme=dark] .colab-df-convert {\n",
              "      background-color: #3B4455;\n",
              "      fill: #D2E3FC;\n",
              "    }\n",
              "\n",
              "    [theme=dark] .colab-df-convert:hover {\n",
              "      background-color: #434B5C;\n",
              "      box-shadow: 0px 1px 3px 1px rgba(0, 0, 0, 0.15);\n",
              "      filter: drop-shadow(0px 1px 2px rgba(0, 0, 0, 0.3));\n",
              "      fill: #FFFFFF;\n",
              "    }\n",
              "  </style>\n",
              "\n",
              "      <script>\n",
              "        const buttonEl =\n",
              "          document.querySelector('#df-93e61654-32af-4f0e-acf0-997b56e095d0 button.colab-df-convert');\n",
              "        buttonEl.style.display =\n",
              "          google.colab.kernel.accessAllowed ? 'block' : 'none';\n",
              "\n",
              "        async function convertToInteractive(key) {\n",
              "          const element = document.querySelector('#df-93e61654-32af-4f0e-acf0-997b56e095d0');\n",
              "          const dataTable =\n",
              "            await google.colab.kernel.invokeFunction('convertToInteractive',\n",
              "                                                     [key], {});\n",
              "          if (!dataTable) return;\n",
              "\n",
              "          const docLinkHtml = 'Like what you see? Visit the ' +\n",
              "            '<a target=\"_blank\" href=https://colab.research.google.com/notebooks/data_table.ipynb>data table notebook</a>'\n",
              "            + ' to learn more about interactive tables.';\n",
              "          element.innerHTML = '';\n",
              "          dataTable['output_type'] = 'display_data';\n",
              "          await google.colab.output.renderOutput(dataTable, element);\n",
              "          const docLink = document.createElement('div');\n",
              "          docLink.innerHTML = docLinkHtml;\n",
              "          element.appendChild(docLink);\n",
              "        }\n",
              "      </script>\n",
              "    </div>\n",
              "  </div>\n",
              "  "
            ]
          },
          "metadata": {}
        }
      ]
    },
    {
      "cell_type": "code",
      "source": [
        "#Random Forests con FE\n",
        "\n",
        "from sklearn.ensemble import RandomForestClassifier\n",
        "forest_model = RandomForestClassifier(random_state=42)\n",
        "# n_estimators? max_depth=3?, max_features=2?\n",
        "\n",
        "rf_model = Pipeline([\n",
        "    ('mapper', mapper_fe),\n",
        "    ('imputer', IterativeImputer(random_state=42)),\n",
        "    ('classifier', forest_model),\n",
        "])\n",
        "\n",
        "rf_model.fit(train, train.winner)\n",
        "\n",
        "evaluate_model(rf_model, title='Random Forest')"
      ],
      "metadata": {
        "id": "zPrYbw-G2CK9",
        "colab": {
          "base_uri": "https://localhost:8080/",
          "height": 131
        },
        "outputId": "9b3943cb-f748-46c8-ede8-5100a6e4a84f"
      },
      "execution_count": 30,
      "outputs": [
        {
          "output_type": "display_data",
          "data": {
            "text/plain": [
              "'Random Forest'"
            ],
            "application/vnd.google.colaboratory.intrinsic+json": {
              "type": "string"
            }
          },
          "metadata": {}
        },
        {
          "output_type": "display_data",
          "data": {
            "text/plain": [
              "            Accuracy\n",
              "train       0.999868\n",
              "validation  0.644428"
            ],
            "text/html": [
              "\n",
              "  <div id=\"df-71c06a7b-36dc-485c-949b-520076a31e8b\">\n",
              "    <div class=\"colab-df-container\">\n",
              "      <div>\n",
              "<style scoped>\n",
              "    .dataframe tbody tr th:only-of-type {\n",
              "        vertical-align: middle;\n",
              "    }\n",
              "\n",
              "    .dataframe tbody tr th {\n",
              "        vertical-align: top;\n",
              "    }\n",
              "\n",
              "    .dataframe thead th {\n",
              "        text-align: right;\n",
              "    }\n",
              "</style>\n",
              "<table border=\"1\" class=\"dataframe\">\n",
              "  <thead>\n",
              "    <tr style=\"text-align: right;\">\n",
              "      <th></th>\n",
              "      <th>Accuracy</th>\n",
              "    </tr>\n",
              "  </thead>\n",
              "  <tbody>\n",
              "    <tr>\n",
              "      <th>train</th>\n",
              "      <td>0.999868</td>\n",
              "    </tr>\n",
              "    <tr>\n",
              "      <th>validation</th>\n",
              "      <td>0.644428</td>\n",
              "    </tr>\n",
              "  </tbody>\n",
              "</table>\n",
              "</div>\n",
              "      <button class=\"colab-df-convert\" onclick=\"convertToInteractive('df-71c06a7b-36dc-485c-949b-520076a31e8b')\"\n",
              "              title=\"Convert this dataframe to an interactive table.\"\n",
              "              style=\"display:none;\">\n",
              "        \n",
              "  <svg xmlns=\"http://www.w3.org/2000/svg\" height=\"24px\"viewBox=\"0 0 24 24\"\n",
              "       width=\"24px\">\n",
              "    <path d=\"M0 0h24v24H0V0z\" fill=\"none\"/>\n",
              "    <path d=\"M18.56 5.44l.94 2.06.94-2.06 2.06-.94-2.06-.94-.94-2.06-.94 2.06-2.06.94zm-11 1L8.5 8.5l.94-2.06 2.06-.94-2.06-.94L8.5 2.5l-.94 2.06-2.06.94zm10 10l.94 2.06.94-2.06 2.06-.94-2.06-.94-.94-2.06-.94 2.06-2.06.94z\"/><path d=\"M17.41 7.96l-1.37-1.37c-.4-.4-.92-.59-1.43-.59-.52 0-1.04.2-1.43.59L10.3 9.45l-7.72 7.72c-.78.78-.78 2.05 0 2.83L4 21.41c.39.39.9.59 1.41.59.51 0 1.02-.2 1.41-.59l7.78-7.78 2.81-2.81c.8-.78.8-2.07 0-2.86zM5.41 20L4 18.59l7.72-7.72 1.47 1.35L5.41 20z\"/>\n",
              "  </svg>\n",
              "      </button>\n",
              "      \n",
              "  <style>\n",
              "    .colab-df-container {\n",
              "      display:flex;\n",
              "      flex-wrap:wrap;\n",
              "      gap: 12px;\n",
              "    }\n",
              "\n",
              "    .colab-df-convert {\n",
              "      background-color: #E8F0FE;\n",
              "      border: none;\n",
              "      border-radius: 50%;\n",
              "      cursor: pointer;\n",
              "      display: none;\n",
              "      fill: #1967D2;\n",
              "      height: 32px;\n",
              "      padding: 0 0 0 0;\n",
              "      width: 32px;\n",
              "    }\n",
              "\n",
              "    .colab-df-convert:hover {\n",
              "      background-color: #E2EBFA;\n",
              "      box-shadow: 0px 1px 2px rgba(60, 64, 67, 0.3), 0px 1px 3px 1px rgba(60, 64, 67, 0.15);\n",
              "      fill: #174EA6;\n",
              "    }\n",
              "\n",
              "    [theme=dark] .colab-df-convert {\n",
              "      background-color: #3B4455;\n",
              "      fill: #D2E3FC;\n",
              "    }\n",
              "\n",
              "    [theme=dark] .colab-df-convert:hover {\n",
              "      background-color: #434B5C;\n",
              "      box-shadow: 0px 1px 3px 1px rgba(0, 0, 0, 0.15);\n",
              "      filter: drop-shadow(0px 1px 2px rgba(0, 0, 0, 0.3));\n",
              "      fill: #FFFFFF;\n",
              "    }\n",
              "  </style>\n",
              "\n",
              "      <script>\n",
              "        const buttonEl =\n",
              "          document.querySelector('#df-71c06a7b-36dc-485c-949b-520076a31e8b button.colab-df-convert');\n",
              "        buttonEl.style.display =\n",
              "          google.colab.kernel.accessAllowed ? 'block' : 'none';\n",
              "\n",
              "        async function convertToInteractive(key) {\n",
              "          const element = document.querySelector('#df-71c06a7b-36dc-485c-949b-520076a31e8b');\n",
              "          const dataTable =\n",
              "            await google.colab.kernel.invokeFunction('convertToInteractive',\n",
              "                                                     [key], {});\n",
              "          if (!dataTable) return;\n",
              "\n",
              "          const docLinkHtml = 'Like what you see? Visit the ' +\n",
              "            '<a target=\"_blank\" href=https://colab.research.google.com/notebooks/data_table.ipynb>data table notebook</a>'\n",
              "            + ' to learn more about interactive tables.';\n",
              "          element.innerHTML = '';\n",
              "          dataTable['output_type'] = 'display_data';\n",
              "          await google.colab.output.renderOutput(dataTable, element);\n",
              "          const docLink = document.createElement('div');\n",
              "          docLink.innerHTML = docLinkHtml;\n",
              "          element.appendChild(docLink);\n",
              "        }\n",
              "      </script>\n",
              "    </div>\n",
              "  </div>\n",
              "  "
            ]
          },
          "metadata": {}
        }
      ]
    },
    {
      "cell_type": "code",
      "source": [
        "#Random forest sin FE con Hiper-Parametros\n",
        "\n",
        "from sklearn.ensemble import RandomForestClassifier\n",
        "\n",
        "n_estimators = 100  # Número de árboles en el bosque\n",
        "max_depth = None  # Profundidad máxima de cada árbol\n",
        "max_features = 'auto'  # Número máximo de características a considerar en cada división\n",
        "\n",
        "forest_model = RandomForestClassifier(\n",
        "    random_state=42,\n",
        "    n_estimators=n_estimators,\n",
        "    max_depth=max_depth,\n",
        "    max_features=max_features\n",
        ")\n",
        "\n",
        "rf_model = Pipeline([\n",
        "    ('mapper', mapper),\n",
        "    ('imputer', IterativeImputer(random_state=42)),\n",
        "    ('classifier', forest_model),\n",
        "])\n",
        "\n",
        "rf_model.fit(train, train.winner)\n",
        "\n",
        "evaluate_model(rf_model, title='Random Forest con Hiper Parámetros')"
      ],
      "metadata": {
        "id": "xsu953GtEp5c",
        "colab": {
          "base_uri": "https://localhost:8080/",
          "height": 188
        },
        "outputId": "3d4db434-cdbe-49b0-a064-e9bbcbc09c16"
      },
      "execution_count": 31,
      "outputs": [
        {
          "output_type": "stream",
          "name": "stderr",
          "text": [
            "/usr/local/lib/python3.10/dist-packages/sklearn/ensemble/_forest.py:424: FutureWarning: `max_features='auto'` has been deprecated in 1.1 and will be removed in 1.3. To keep the past behaviour, explicitly set `max_features='sqrt'` or remove this parameter as it is also the default value for RandomForestClassifiers and ExtraTreesClassifiers.\n",
            "  warn(\n"
          ]
        },
        {
          "output_type": "display_data",
          "data": {
            "text/plain": [
              "'Random Forest con Hiper Parámetros'"
            ],
            "application/vnd.google.colaboratory.intrinsic+json": {
              "type": "string"
            }
          },
          "metadata": {}
        },
        {
          "output_type": "display_data",
          "data": {
            "text/plain": [
              "            Accuracy\n",
              "train       0.999880\n",
              "validation  0.646079"
            ],
            "text/html": [
              "\n",
              "  <div id=\"df-ec10dd17-6508-431a-b3a2-52a9287328a3\">\n",
              "    <div class=\"colab-df-container\">\n",
              "      <div>\n",
              "<style scoped>\n",
              "    .dataframe tbody tr th:only-of-type {\n",
              "        vertical-align: middle;\n",
              "    }\n",
              "\n",
              "    .dataframe tbody tr th {\n",
              "        vertical-align: top;\n",
              "    }\n",
              "\n",
              "    .dataframe thead th {\n",
              "        text-align: right;\n",
              "    }\n",
              "</style>\n",
              "<table border=\"1\" class=\"dataframe\">\n",
              "  <thead>\n",
              "    <tr style=\"text-align: right;\">\n",
              "      <th></th>\n",
              "      <th>Accuracy</th>\n",
              "    </tr>\n",
              "  </thead>\n",
              "  <tbody>\n",
              "    <tr>\n",
              "      <th>train</th>\n",
              "      <td>0.999880</td>\n",
              "    </tr>\n",
              "    <tr>\n",
              "      <th>validation</th>\n",
              "      <td>0.646079</td>\n",
              "    </tr>\n",
              "  </tbody>\n",
              "</table>\n",
              "</div>\n",
              "      <button class=\"colab-df-convert\" onclick=\"convertToInteractive('df-ec10dd17-6508-431a-b3a2-52a9287328a3')\"\n",
              "              title=\"Convert this dataframe to an interactive table.\"\n",
              "              style=\"display:none;\">\n",
              "        \n",
              "  <svg xmlns=\"http://www.w3.org/2000/svg\" height=\"24px\"viewBox=\"0 0 24 24\"\n",
              "       width=\"24px\">\n",
              "    <path d=\"M0 0h24v24H0V0z\" fill=\"none\"/>\n",
              "    <path d=\"M18.56 5.44l.94 2.06.94-2.06 2.06-.94-2.06-.94-.94-2.06-.94 2.06-2.06.94zm-11 1L8.5 8.5l.94-2.06 2.06-.94-2.06-.94L8.5 2.5l-.94 2.06-2.06.94zm10 10l.94 2.06.94-2.06 2.06-.94-2.06-.94-.94-2.06-.94 2.06-2.06.94z\"/><path d=\"M17.41 7.96l-1.37-1.37c-.4-.4-.92-.59-1.43-.59-.52 0-1.04.2-1.43.59L10.3 9.45l-7.72 7.72c-.78.78-.78 2.05 0 2.83L4 21.41c.39.39.9.59 1.41.59.51 0 1.02-.2 1.41-.59l7.78-7.78 2.81-2.81c.8-.78.8-2.07 0-2.86zM5.41 20L4 18.59l7.72-7.72 1.47 1.35L5.41 20z\"/>\n",
              "  </svg>\n",
              "      </button>\n",
              "      \n",
              "  <style>\n",
              "    .colab-df-container {\n",
              "      display:flex;\n",
              "      flex-wrap:wrap;\n",
              "      gap: 12px;\n",
              "    }\n",
              "\n",
              "    .colab-df-convert {\n",
              "      background-color: #E8F0FE;\n",
              "      border: none;\n",
              "      border-radius: 50%;\n",
              "      cursor: pointer;\n",
              "      display: none;\n",
              "      fill: #1967D2;\n",
              "      height: 32px;\n",
              "      padding: 0 0 0 0;\n",
              "      width: 32px;\n",
              "    }\n",
              "\n",
              "    .colab-df-convert:hover {\n",
              "      background-color: #E2EBFA;\n",
              "      box-shadow: 0px 1px 2px rgba(60, 64, 67, 0.3), 0px 1px 3px 1px rgba(60, 64, 67, 0.15);\n",
              "      fill: #174EA6;\n",
              "    }\n",
              "\n",
              "    [theme=dark] .colab-df-convert {\n",
              "      background-color: #3B4455;\n",
              "      fill: #D2E3FC;\n",
              "    }\n",
              "\n",
              "    [theme=dark] .colab-df-convert:hover {\n",
              "      background-color: #434B5C;\n",
              "      box-shadow: 0px 1px 3px 1px rgba(0, 0, 0, 0.15);\n",
              "      filter: drop-shadow(0px 1px 2px rgba(0, 0, 0, 0.3));\n",
              "      fill: #FFFFFF;\n",
              "    }\n",
              "  </style>\n",
              "\n",
              "      <script>\n",
              "        const buttonEl =\n",
              "          document.querySelector('#df-ec10dd17-6508-431a-b3a2-52a9287328a3 button.colab-df-convert');\n",
              "        buttonEl.style.display =\n",
              "          google.colab.kernel.accessAllowed ? 'block' : 'none';\n",
              "\n",
              "        async function convertToInteractive(key) {\n",
              "          const element = document.querySelector('#df-ec10dd17-6508-431a-b3a2-52a9287328a3');\n",
              "          const dataTable =\n",
              "            await google.colab.kernel.invokeFunction('convertToInteractive',\n",
              "                                                     [key], {});\n",
              "          if (!dataTable) return;\n",
              "\n",
              "          const docLinkHtml = 'Like what you see? Visit the ' +\n",
              "            '<a target=\"_blank\" href=https://colab.research.google.com/notebooks/data_table.ipynb>data table notebook</a>'\n",
              "            + ' to learn more about interactive tables.';\n",
              "          element.innerHTML = '';\n",
              "          dataTable['output_type'] = 'display_data';\n",
              "          await google.colab.output.renderOutput(dataTable, element);\n",
              "          const docLink = document.createElement('div');\n",
              "          docLink.innerHTML = docLinkHtml;\n",
              "          element.appendChild(docLink);\n",
              "        }\n",
              "      </script>\n",
              "    </div>\n",
              "  </div>\n",
              "  "
            ]
          },
          "metadata": {}
        }
      ]
    },
    {
      "cell_type": "markdown",
      "source": [
        "* A la hora de evaluar el modelo con random forest encontramos un accuracy en train\tde un 0.999880 y validation\t0.646079. En RF con FA y con Hiper Parámetros los resultados son muy similares, lo que significaria que acierta en un 99.9% de las veces el ganador del partido"
      ],
      "metadata": {
        "id": "e4Fw4pgVRA2R"
      }
    },
    {
      "cell_type": "markdown",
      "source": [
        "# Regresión logística con PCA\n"
      ],
      "metadata": {
        "id": "Qeq0iYjUhNtE"
      }
    },
    {
      "cell_type": "code",
      "source": [
        "d= 5\n",
        "parameters = {'penalty': ['none', 'l1', 'l2']}\n",
        "pca = PCA(n_components=d)\n",
        "\n",
        "clasif = GridSearchCV(LogisticRegression(random_state=42), parameters, cv=5, scoring='accuracy')\n",
        "\n",
        "modelo_pca_rl = Pipeline([\n",
        "    ('mapper', mapper),\n",
        "    ('pca', pca),\n",
        "    ('classifier', clasif),\n",
        "    \n",
        "])\n",
        "\n",
        "modelo_pca_rl.fit(train, train.winner)"
      ],
      "metadata": {
        "id": "UDfJJg-nlQLr",
        "colab": {
          "base_uri": "https://localhost:8080/",
          "height": 819
        },
        "outputId": "43fe95f7-b805-49ca-c2df-cee9dec0a87e"
      },
      "execution_count": 32,
      "outputs": [
        {
          "output_type": "stream",
          "name": "stderr",
          "text": [
            "/usr/local/lib/python3.10/dist-packages/sklearn/linear_model/_logistic.py:1173: FutureWarning: `penalty='none'`has been deprecated in 1.2 and will be removed in 1.4. To keep the past behaviour, set `penalty=None`.\n",
            "  warnings.warn(\n",
            "/usr/local/lib/python3.10/dist-packages/sklearn/linear_model/_logistic.py:1173: FutureWarning: `penalty='none'`has been deprecated in 1.2 and will be removed in 1.4. To keep the past behaviour, set `penalty=None`.\n",
            "  warnings.warn(\n",
            "/usr/local/lib/python3.10/dist-packages/sklearn/linear_model/_logistic.py:1173: FutureWarning: `penalty='none'`has been deprecated in 1.2 and will be removed in 1.4. To keep the past behaviour, set `penalty=None`.\n",
            "  warnings.warn(\n",
            "/usr/local/lib/python3.10/dist-packages/sklearn/linear_model/_logistic.py:1173: FutureWarning: `penalty='none'`has been deprecated in 1.2 and will be removed in 1.4. To keep the past behaviour, set `penalty=None`.\n",
            "  warnings.warn(\n",
            "/usr/local/lib/python3.10/dist-packages/sklearn/linear_model/_logistic.py:1173: FutureWarning: `penalty='none'`has been deprecated in 1.2 and will be removed in 1.4. To keep the past behaviour, set `penalty=None`.\n",
            "  warnings.warn(\n",
            "/usr/local/lib/python3.10/dist-packages/sklearn/model_selection/_validation.py:378: FitFailedWarning: \n",
            "5 fits failed out of a total of 15.\n",
            "The score on these train-test partitions for these parameters will be set to nan.\n",
            "If these failures are not expected, you can try to debug them by setting error_score='raise'.\n",
            "\n",
            "Below are more details about the failures:\n",
            "--------------------------------------------------------------------------------\n",
            "5 fits failed with the following error:\n",
            "Traceback (most recent call last):\n",
            "  File \"/usr/local/lib/python3.10/dist-packages/sklearn/model_selection/_validation.py\", line 686, in _fit_and_score\n",
            "    estimator.fit(X_train, y_train, **fit_params)\n",
            "  File \"/usr/local/lib/python3.10/dist-packages/sklearn/linear_model/_logistic.py\", line 1162, in fit\n",
            "    solver = _check_solver(self.solver, self.penalty, self.dual)\n",
            "  File \"/usr/local/lib/python3.10/dist-packages/sklearn/linear_model/_logistic.py\", line 54, in _check_solver\n",
            "    raise ValueError(\n",
            "ValueError: Solver lbfgs supports only 'l2' or 'none' penalties, got l1 penalty.\n",
            "\n",
            "  warnings.warn(some_fits_failed_message, FitFailedWarning)\n",
            "/usr/local/lib/python3.10/dist-packages/sklearn/model_selection/_search.py:952: UserWarning: One or more of the test scores are non-finite: [0.61335743        nan 0.61335743]\n",
            "  warnings.warn(\n",
            "/usr/local/lib/python3.10/dist-packages/sklearn/linear_model/_logistic.py:1173: FutureWarning: `penalty='none'`has been deprecated in 1.2 and will be removed in 1.4. To keep the past behaviour, set `penalty=None`.\n",
            "  warnings.warn(\n"
          ]
        },
        {
          "output_type": "execute_result",
          "data": {
            "text/plain": [
              "Pipeline(steps=[('mapper',\n",
              "                 DataFrameMapper(drop_cols=[],\n",
              "                                 features=[(['p1_seed'], [StandardScaler()]),\n",
              "                                           (['p2_seed'], [StandardScaler()]),\n",
              "                                           (['p1_rank'], [StandardScaler()]),\n",
              "                                           (['p2_rank'], [StandardScaler()]),\n",
              "                                           (['surface'], [OneHotEncoder()]),\n",
              "                                           (['best_of'], [OneHotEncoder()]),\n",
              "                                           (['p1_ht'], [StandardScaler()]),\n",
              "                                           (['p2_ht'], [StandardScaler()]),\n",
              "                                           (['p1_age'], [StandardScaler()]),\n",
              "                                           (['p2_age'], [StandardScaler()]),\n",
              "                                           (['p1_hand'], [OneHotEncoder()]),\n",
              "                                           (['p2_hand'], [OneHotEncoder()])])),\n",
              "                ('pca', PCA(n_components=5)),\n",
              "                ('classifier',\n",
              "                 GridSearchCV(cv=5,\n",
              "                              estimator=LogisticRegression(random_state=42),\n",
              "                              param_grid={'penalty': ['none', 'l1', 'l2']},\n",
              "                              scoring='accuracy'))])"
            ],
            "text/html": [
              "<style>#sk-container-id-3 {color: black;background-color: white;}#sk-container-id-3 pre{padding: 0;}#sk-container-id-3 div.sk-toggleable {background-color: white;}#sk-container-id-3 label.sk-toggleable__label {cursor: pointer;display: block;width: 100%;margin-bottom: 0;padding: 0.3em;box-sizing: border-box;text-align: center;}#sk-container-id-3 label.sk-toggleable__label-arrow:before {content: \"▸\";float: left;margin-right: 0.25em;color: #696969;}#sk-container-id-3 label.sk-toggleable__label-arrow:hover:before {color: black;}#sk-container-id-3 div.sk-estimator:hover label.sk-toggleable__label-arrow:before {color: black;}#sk-container-id-3 div.sk-toggleable__content {max-height: 0;max-width: 0;overflow: hidden;text-align: left;background-color: #f0f8ff;}#sk-container-id-3 div.sk-toggleable__content pre {margin: 0.2em;color: black;border-radius: 0.25em;background-color: #f0f8ff;}#sk-container-id-3 input.sk-toggleable__control:checked~div.sk-toggleable__content {max-height: 200px;max-width: 100%;overflow: auto;}#sk-container-id-3 input.sk-toggleable__control:checked~label.sk-toggleable__label-arrow:before {content: \"▾\";}#sk-container-id-3 div.sk-estimator input.sk-toggleable__control:checked~label.sk-toggleable__label {background-color: #d4ebff;}#sk-container-id-3 div.sk-label input.sk-toggleable__control:checked~label.sk-toggleable__label {background-color: #d4ebff;}#sk-container-id-3 input.sk-hidden--visually {border: 0;clip: rect(1px 1px 1px 1px);clip: rect(1px, 1px, 1px, 1px);height: 1px;margin: -1px;overflow: hidden;padding: 0;position: absolute;width: 1px;}#sk-container-id-3 div.sk-estimator {font-family: monospace;background-color: #f0f8ff;border: 1px dotted black;border-radius: 0.25em;box-sizing: border-box;margin-bottom: 0.5em;}#sk-container-id-3 div.sk-estimator:hover {background-color: #d4ebff;}#sk-container-id-3 div.sk-parallel-item::after {content: \"\";width: 100%;border-bottom: 1px solid gray;flex-grow: 1;}#sk-container-id-3 div.sk-label:hover label.sk-toggleable__label {background-color: #d4ebff;}#sk-container-id-3 div.sk-serial::before {content: \"\";position: absolute;border-left: 1px solid gray;box-sizing: border-box;top: 0;bottom: 0;left: 50%;z-index: 0;}#sk-container-id-3 div.sk-serial {display: flex;flex-direction: column;align-items: center;background-color: white;padding-right: 0.2em;padding-left: 0.2em;position: relative;}#sk-container-id-3 div.sk-item {position: relative;z-index: 1;}#sk-container-id-3 div.sk-parallel {display: flex;align-items: stretch;justify-content: center;background-color: white;position: relative;}#sk-container-id-3 div.sk-item::before, #sk-container-id-3 div.sk-parallel-item::before {content: \"\";position: absolute;border-left: 1px solid gray;box-sizing: border-box;top: 0;bottom: 0;left: 50%;z-index: -1;}#sk-container-id-3 div.sk-parallel-item {display: flex;flex-direction: column;z-index: 1;position: relative;background-color: white;}#sk-container-id-3 div.sk-parallel-item:first-child::after {align-self: flex-end;width: 50%;}#sk-container-id-3 div.sk-parallel-item:last-child::after {align-self: flex-start;width: 50%;}#sk-container-id-3 div.sk-parallel-item:only-child::after {width: 0;}#sk-container-id-3 div.sk-dashed-wrapped {border: 1px dashed gray;margin: 0 0.4em 0.5em 0.4em;box-sizing: border-box;padding-bottom: 0.4em;background-color: white;}#sk-container-id-3 div.sk-label label {font-family: monospace;font-weight: bold;display: inline-block;line-height: 1.2em;}#sk-container-id-3 div.sk-label-container {text-align: center;}#sk-container-id-3 div.sk-container {/* jupyter's `normalize.less` sets `[hidden] { display: none; }` but bootstrap.min.css set `[hidden] { display: none !important; }` so we also need the `!important` here to be able to override the default hidden behavior on the sphinx rendered scikit-learn.org. See: https://github.com/scikit-learn/scikit-learn/issues/21755 */display: inline-block !important;position: relative;}#sk-container-id-3 div.sk-text-repr-fallback {display: none;}</style><div id=\"sk-container-id-3\" class=\"sk-top-container\"><div class=\"sk-text-repr-fallback\"><pre>Pipeline(steps=[(&#x27;mapper&#x27;,\n",
              "                 DataFrameMapper(drop_cols=[],\n",
              "                                 features=[([&#x27;p1_seed&#x27;], [StandardScaler()]),\n",
              "                                           ([&#x27;p2_seed&#x27;], [StandardScaler()]),\n",
              "                                           ([&#x27;p1_rank&#x27;], [StandardScaler()]),\n",
              "                                           ([&#x27;p2_rank&#x27;], [StandardScaler()]),\n",
              "                                           ([&#x27;surface&#x27;], [OneHotEncoder()]),\n",
              "                                           ([&#x27;best_of&#x27;], [OneHotEncoder()]),\n",
              "                                           ([&#x27;p1_ht&#x27;], [StandardScaler()]),\n",
              "                                           ([&#x27;p2_ht&#x27;], [StandardScaler()]),\n",
              "                                           ([&#x27;p1_age&#x27;], [StandardScaler()]),\n",
              "                                           ([&#x27;p2_age&#x27;], [StandardScaler()]),\n",
              "                                           ([&#x27;p1_hand&#x27;], [OneHotEncoder()]),\n",
              "                                           ([&#x27;p2_hand&#x27;], [OneHotEncoder()])])),\n",
              "                (&#x27;pca&#x27;, PCA(n_components=5)),\n",
              "                (&#x27;classifier&#x27;,\n",
              "                 GridSearchCV(cv=5,\n",
              "                              estimator=LogisticRegression(random_state=42),\n",
              "                              param_grid={&#x27;penalty&#x27;: [&#x27;none&#x27;, &#x27;l1&#x27;, &#x27;l2&#x27;]},\n",
              "                              scoring=&#x27;accuracy&#x27;))])</pre><b>In a Jupyter environment, please rerun this cell to show the HTML representation or trust the notebook. <br />On GitHub, the HTML representation is unable to render, please try loading this page with nbviewer.org.</b></div><div class=\"sk-container\" hidden><div class=\"sk-item sk-dashed-wrapped\"><div class=\"sk-label-container\"><div class=\"sk-label sk-toggleable\"><input class=\"sk-toggleable__control sk-hidden--visually\" id=\"sk-estimator-id-3\" type=\"checkbox\" ><label for=\"sk-estimator-id-3\" class=\"sk-toggleable__label sk-toggleable__label-arrow\">Pipeline</label><div class=\"sk-toggleable__content\"><pre>Pipeline(steps=[(&#x27;mapper&#x27;,\n",
              "                 DataFrameMapper(drop_cols=[],\n",
              "                                 features=[([&#x27;p1_seed&#x27;], [StandardScaler()]),\n",
              "                                           ([&#x27;p2_seed&#x27;], [StandardScaler()]),\n",
              "                                           ([&#x27;p1_rank&#x27;], [StandardScaler()]),\n",
              "                                           ([&#x27;p2_rank&#x27;], [StandardScaler()]),\n",
              "                                           ([&#x27;surface&#x27;], [OneHotEncoder()]),\n",
              "                                           ([&#x27;best_of&#x27;], [OneHotEncoder()]),\n",
              "                                           ([&#x27;p1_ht&#x27;], [StandardScaler()]),\n",
              "                                           ([&#x27;p2_ht&#x27;], [StandardScaler()]),\n",
              "                                           ([&#x27;p1_age&#x27;], [StandardScaler()]),\n",
              "                                           ([&#x27;p2_age&#x27;], [StandardScaler()]),\n",
              "                                           ([&#x27;p1_hand&#x27;], [OneHotEncoder()]),\n",
              "                                           ([&#x27;p2_hand&#x27;], [OneHotEncoder()])])),\n",
              "                (&#x27;pca&#x27;, PCA(n_components=5)),\n",
              "                (&#x27;classifier&#x27;,\n",
              "                 GridSearchCV(cv=5,\n",
              "                              estimator=LogisticRegression(random_state=42),\n",
              "                              param_grid={&#x27;penalty&#x27;: [&#x27;none&#x27;, &#x27;l1&#x27;, &#x27;l2&#x27;]},\n",
              "                              scoring=&#x27;accuracy&#x27;))])</pre></div></div></div><div class=\"sk-serial\"><div class=\"sk-item\"><div class=\"sk-estimator sk-toggleable\"><input class=\"sk-toggleable__control sk-hidden--visually\" id=\"sk-estimator-id-4\" type=\"checkbox\" ><label for=\"sk-estimator-id-4\" class=\"sk-toggleable__label sk-toggleable__label-arrow\">DataFrameMapper</label><div class=\"sk-toggleable__content\"><pre>DataFrameMapper(drop_cols=[],\n",
              "                features=[([&#x27;p1_seed&#x27;], [StandardScaler()]),\n",
              "                          ([&#x27;p2_seed&#x27;], [StandardScaler()]),\n",
              "                          ([&#x27;p1_rank&#x27;], [StandardScaler()]),\n",
              "                          ([&#x27;p2_rank&#x27;], [StandardScaler()]),\n",
              "                          ([&#x27;surface&#x27;], [OneHotEncoder()]),\n",
              "                          ([&#x27;best_of&#x27;], [OneHotEncoder()]),\n",
              "                          ([&#x27;p1_ht&#x27;], [StandardScaler()]),\n",
              "                          ([&#x27;p2_ht&#x27;], [StandardScaler()]),\n",
              "                          ([&#x27;p1_age&#x27;], [StandardScaler()]),\n",
              "                          ([&#x27;p2_age&#x27;], [StandardScaler()]),\n",
              "                          ([&#x27;p1_hand&#x27;], [OneHotEncoder()]),\n",
              "                          ([&#x27;p2_hand&#x27;], [OneHotEncoder()])])</pre></div></div></div><div class=\"sk-item\"><div class=\"sk-estimator sk-toggleable\"><input class=\"sk-toggleable__control sk-hidden--visually\" id=\"sk-estimator-id-5\" type=\"checkbox\" ><label for=\"sk-estimator-id-5\" class=\"sk-toggleable__label sk-toggleable__label-arrow\">PCA</label><div class=\"sk-toggleable__content\"><pre>PCA(n_components=5)</pre></div></div></div><div class=\"sk-item sk-dashed-wrapped\"><div class=\"sk-label-container\"><div class=\"sk-label sk-toggleable\"><input class=\"sk-toggleable__control sk-hidden--visually\" id=\"sk-estimator-id-6\" type=\"checkbox\" ><label for=\"sk-estimator-id-6\" class=\"sk-toggleable__label sk-toggleable__label-arrow\">classifier: GridSearchCV</label><div class=\"sk-toggleable__content\"><pre>GridSearchCV(cv=5, estimator=LogisticRegression(random_state=42),\n",
              "             param_grid={&#x27;penalty&#x27;: [&#x27;none&#x27;, &#x27;l1&#x27;, &#x27;l2&#x27;]}, scoring=&#x27;accuracy&#x27;)</pre></div></div></div><div class=\"sk-parallel\"><div class=\"sk-parallel-item\"><div class=\"sk-item\"><div class=\"sk-label-container\"><div class=\"sk-label sk-toggleable\"><input class=\"sk-toggleable__control sk-hidden--visually\" id=\"sk-estimator-id-7\" type=\"checkbox\" ><label for=\"sk-estimator-id-7\" class=\"sk-toggleable__label sk-toggleable__label-arrow\">estimator: LogisticRegression</label><div class=\"sk-toggleable__content\"><pre>LogisticRegression(random_state=42)</pre></div></div></div><div class=\"sk-serial\"><div class=\"sk-item\"><div class=\"sk-estimator sk-toggleable\"><input class=\"sk-toggleable__control sk-hidden--visually\" id=\"sk-estimator-id-8\" type=\"checkbox\" ><label for=\"sk-estimator-id-8\" class=\"sk-toggleable__label sk-toggleable__label-arrow\">LogisticRegression</label><div class=\"sk-toggleable__content\"><pre>LogisticRegression(random_state=42)</pre></div></div></div></div></div></div></div></div></div></div></div></div>"
            ]
          },
          "metadata": {},
          "execution_count": 32
        }
      ]
    },
    {
      "cell_type": "code",
      "source": [
        "# Definir qué fracción de la varianza se quiere mantener\n",
        "var_frac = 0.95\n",
        "\n",
        "# Calcular la suma acumulativa\n",
        "cumsum = np.cumsum(pca.explained_variance_ratio_) \n",
        "# eso nos dice cuanta información es retenida si paramos en cada dimensión\n",
        "\n",
        "# En qué momento la suma cumulativa llega a var_frac * 100 %?\n",
        "d = np.argmax(cumsum >= var_frac) + 1"
      ],
      "metadata": {
        "id": "fJf4Ie2RmLqu"
      },
      "execution_count": 33,
      "outputs": []
    },
    {
      "cell_type": "code",
      "source": [
        "transformed_data = modelo_pca_rl.named_steps['mapper'].transform(train)\n",
        "dimensiones = transformed_data.shape[1]\n",
        "print(\"Dimensiones:\", dimensiones)\n",
        "print(\"Validacion cruzada:\", clasif.best_score_)\n",
        "print(\"Mejores Hiperparametros:\", clasif.best_params_)\n",
        "\n",
        "evaluate_model(modelo_pca_rl , title='Regresión Logistica con PCA', show_cm=True)"
      ],
      "metadata": {
        "id": "qBW2jVPQNrq5",
        "colab": {
          "base_uri": "https://localhost:8080/",
          "height": 1000
        },
        "outputId": "679ac1ad-ce4f-4066-d2b7-67b6b6a7fbbc"
      },
      "execution_count": 34,
      "outputs": [
        {
          "output_type": "stream",
          "name": "stdout",
          "text": [
            "Dimensiones: 18\n",
            "Validacion cruzada: 0.6133574315135938\n",
            "Mejores Hiperparametros: {'penalty': 'none'}\n"
          ]
        },
        {
          "output_type": "display_data",
          "data": {
            "text/plain": [
              "'Regresión Logistica con PCA'"
            ],
            "application/vnd.google.colaboratory.intrinsic+json": {
              "type": "string"
            }
          },
          "metadata": {}
        },
        {
          "output_type": "display_data",
          "data": {
            "text/plain": [
              "            Accuracy\n",
              "train       0.613082\n",
              "validation  0.611915"
            ],
            "text/html": [
              "\n",
              "  <div id=\"df-a4bef9f8-6b9f-4e26-99ae-d6964138c59c\">\n",
              "    <div class=\"colab-df-container\">\n",
              "      <div>\n",
              "<style scoped>\n",
              "    .dataframe tbody tr th:only-of-type {\n",
              "        vertical-align: middle;\n",
              "    }\n",
              "\n",
              "    .dataframe tbody tr th {\n",
              "        vertical-align: top;\n",
              "    }\n",
              "\n",
              "    .dataframe thead th {\n",
              "        text-align: right;\n",
              "    }\n",
              "</style>\n",
              "<table border=\"1\" class=\"dataframe\">\n",
              "  <thead>\n",
              "    <tr style=\"text-align: right;\">\n",
              "      <th></th>\n",
              "      <th>Accuracy</th>\n",
              "    </tr>\n",
              "  </thead>\n",
              "  <tbody>\n",
              "    <tr>\n",
              "      <th>train</th>\n",
              "      <td>0.613082</td>\n",
              "    </tr>\n",
              "    <tr>\n",
              "      <th>validation</th>\n",
              "      <td>0.611915</td>\n",
              "    </tr>\n",
              "  </tbody>\n",
              "</table>\n",
              "</div>\n",
              "      <button class=\"colab-df-convert\" onclick=\"convertToInteractive('df-a4bef9f8-6b9f-4e26-99ae-d6964138c59c')\"\n",
              "              title=\"Convert this dataframe to an interactive table.\"\n",
              "              style=\"display:none;\">\n",
              "        \n",
              "  <svg xmlns=\"http://www.w3.org/2000/svg\" height=\"24px\"viewBox=\"0 0 24 24\"\n",
              "       width=\"24px\">\n",
              "    <path d=\"M0 0h24v24H0V0z\" fill=\"none\"/>\n",
              "    <path d=\"M18.56 5.44l.94 2.06.94-2.06 2.06-.94-2.06-.94-.94-2.06-.94 2.06-2.06.94zm-11 1L8.5 8.5l.94-2.06 2.06-.94-2.06-.94L8.5 2.5l-.94 2.06-2.06.94zm10 10l.94 2.06.94-2.06 2.06-.94-2.06-.94-.94-2.06-.94 2.06-2.06.94z\"/><path d=\"M17.41 7.96l-1.37-1.37c-.4-.4-.92-.59-1.43-.59-.52 0-1.04.2-1.43.59L10.3 9.45l-7.72 7.72c-.78.78-.78 2.05 0 2.83L4 21.41c.39.39.9.59 1.41.59.51 0 1.02-.2 1.41-.59l7.78-7.78 2.81-2.81c.8-.78.8-2.07 0-2.86zM5.41 20L4 18.59l7.72-7.72 1.47 1.35L5.41 20z\"/>\n",
              "  </svg>\n",
              "      </button>\n",
              "      \n",
              "  <style>\n",
              "    .colab-df-container {\n",
              "      display:flex;\n",
              "      flex-wrap:wrap;\n",
              "      gap: 12px;\n",
              "    }\n",
              "\n",
              "    .colab-df-convert {\n",
              "      background-color: #E8F0FE;\n",
              "      border: none;\n",
              "      border-radius: 50%;\n",
              "      cursor: pointer;\n",
              "      display: none;\n",
              "      fill: #1967D2;\n",
              "      height: 32px;\n",
              "      padding: 0 0 0 0;\n",
              "      width: 32px;\n",
              "    }\n",
              "\n",
              "    .colab-df-convert:hover {\n",
              "      background-color: #E2EBFA;\n",
              "      box-shadow: 0px 1px 2px rgba(60, 64, 67, 0.3), 0px 1px 3px 1px rgba(60, 64, 67, 0.15);\n",
              "      fill: #174EA6;\n",
              "    }\n",
              "\n",
              "    [theme=dark] .colab-df-convert {\n",
              "      background-color: #3B4455;\n",
              "      fill: #D2E3FC;\n",
              "    }\n",
              "\n",
              "    [theme=dark] .colab-df-convert:hover {\n",
              "      background-color: #434B5C;\n",
              "      box-shadow: 0px 1px 3px 1px rgba(0, 0, 0, 0.15);\n",
              "      filter: drop-shadow(0px 1px 2px rgba(0, 0, 0, 0.3));\n",
              "      fill: #FFFFFF;\n",
              "    }\n",
              "  </style>\n",
              "\n",
              "      <script>\n",
              "        const buttonEl =\n",
              "          document.querySelector('#df-a4bef9f8-6b9f-4e26-99ae-d6964138c59c button.colab-df-convert');\n",
              "        buttonEl.style.display =\n",
              "          google.colab.kernel.accessAllowed ? 'block' : 'none';\n",
              "\n",
              "        async function convertToInteractive(key) {\n",
              "          const element = document.querySelector('#df-a4bef9f8-6b9f-4e26-99ae-d6964138c59c');\n",
              "          const dataTable =\n",
              "            await google.colab.kernel.invokeFunction('convertToInteractive',\n",
              "                                                     [key], {});\n",
              "          if (!dataTable) return;\n",
              "\n",
              "          const docLinkHtml = 'Like what you see? Visit the ' +\n",
              "            '<a target=\"_blank\" href=https://colab.research.google.com/notebooks/data_table.ipynb>data table notebook</a>'\n",
              "            + ' to learn more about interactive tables.';\n",
              "          element.innerHTML = '';\n",
              "          dataTable['output_type'] = 'display_data';\n",
              "          await google.colab.output.renderOutput(dataTable, element);\n",
              "          const docLink = document.createElement('div');\n",
              "          docLink.innerHTML = docLinkHtml;\n",
              "          element.appendChild(docLink);\n",
              "        }\n",
              "      </script>\n",
              "    </div>\n",
              "  </div>\n",
              "  "
            ]
          },
          "metadata": {}
        },
        {
          "output_type": "display_data",
          "data": {
            "text/plain": [
              "<Figure size 640x480 with 2 Axes>"
            ],
            "image/png": "[encoded data removed]"
          },
          "metadata": {}
        },
        {
          "output_type": "display_data",
          "data": {
            "text/plain": [
              "<Figure size 640x480 with 2 Axes>"
            ],
            "image/png": "[encoded data removed]"
          },
          "metadata": {}
        }
      ]
    },
    {
      "cell_type": "markdown",
      "source": [
        "* El valor de Accuracy que devuelve la Regresión Logistica es del 61% de acierto. El mismo es menor al que nos devolvia el accuracy en el punto anterior por lo que nos conviene tener en cuenta y no este nuevo con PCA. "
      ],
      "metadata": {
        "id": "x5TlAOziYl3v"
      }
    },
    {
      "cell_type": "markdown",
      "source": [
        "# KNN con PCA"
      ],
      "metadata": {
        "id": "8EMxWa9tTnK2"
      }
    },
    {
      "cell_type": "code",
      "source": [
        "\n",
        "param_grid = {'n_neighbors': [5, 10, 15], 'weights': ['uniform', 'distance']}\n",
        "\n",
        "\n",
        "pca = PCA(n_components=d)\n",
        "K = 10\n",
        "\n",
        "clasif = GridSearchCV(KNeighborsClassifier(), param_grid, cv=5, scoring='accuracy')\n",
        "\n",
        "modelo_pca_kkn = Pipeline([\n",
        "    ('mapper', mapper),\n",
        "    ('pca', pca),\n",
        "    ('classifier', clasif),\n",
        "    \n",
        "])\n",
        "\n",
        "modelo_pca_kkn.fit(train, train.winner)"
      ],
      "metadata": {
        "colab": {
          "base_uri": "https://localhost:8080/",
          "height": 228
        },
        "id": "kGtCkcozNUBo",
        "outputId": "2969b2eb-862a-44aa-e4c1-a7217c5195e3"
      },
      "execution_count": 35,
      "outputs": [
        {
          "output_type": "execute_result",
          "data": {
            "text/plain": [
              "Pipeline(steps=[('mapper',\n",
              "                 DataFrameMapper(drop_cols=[],\n",
              "                                 features=[(['p1_seed'], [StandardScaler()]),\n",
              "                                           (['p2_seed'], [StandardScaler()]),\n",
              "                                           (['p1_rank'], [StandardScaler()]),\n",
              "                                           (['p2_rank'], [StandardScaler()]),\n",
              "                                           (['surface'], [OneHotEncoder()]),\n",
              "                                           (['best_of'], [OneHotEncoder()]),\n",
              "                                           (['p1_ht'], [StandardScaler()]),\n",
              "                                           (['p2_ht'], [StandardScaler()]),\n",
              "                                           (['p1_age'], [StandardScaler()]),\n",
              "                                           (['p2_age'], [StandardScaler()]),\n",
              "                                           (['p1_hand'], [OneHotEncoder()]),\n",
              "                                           (['p2_hand'], [OneHotEncoder()])])),\n",
              "                ('pca', PCA(n_components=1)),\n",
              "                ('classifier',\n",
              "                 GridSearchCV(cv=5, estimator=KNeighborsClassifier(),\n",
              "                              param_grid={'n_neighbors': [5, 10, 15],\n",
              "                                          'weights': ['uniform', 'distance']},\n",
              "                              scoring='accuracy'))])"
            ],
            "text/html": [
              "<style>#sk-container-id-4 {color: black;background-color: white;}#sk-container-id-4 pre{padding: 0;}#sk-container-id-4 div.sk-toggleable {background-color: white;}#sk-container-id-4 label.sk-toggleable__label {cursor: pointer;display: block;width: 100%;margin-bottom: 0;padding: 0.3em;box-sizing: border-box;text-align: center;}#sk-container-id-4 label.sk-toggleable__label-arrow:before {content: \"▸\";float: left;margin-right: 0.25em;color: #696969;}#sk-container-id-4 label.sk-toggleable__label-arrow:hover:before {color: black;}#sk-container-id-4 div.sk-estimator:hover label.sk-toggleable__label-arrow:before {color: black;}#sk-container-id-4 div.sk-toggleable__content {max-height: 0;max-width: 0;overflow: hidden;text-align: left;background-color: #f0f8ff;}#sk-container-id-4 div.sk-toggleable__content pre {margin: 0.2em;color: black;border-radius: 0.25em;background-color: #f0f8ff;}#sk-container-id-4 input.sk-toggleable__control:checked~div.sk-toggleable__content {max-height: 200px;max-width: 100%;overflow: auto;}#sk-container-id-4 input.sk-toggleable__control:checked~label.sk-toggleable__label-arrow:before {content: \"▾\";}#sk-container-id-4 div.sk-estimator input.sk-toggleable__control:checked~label.sk-toggleable__label {background-color: #d4ebff;}#sk-container-id-4 div.sk-label input.sk-toggleable__control:checked~label.sk-toggleable__label {background-color: #d4ebff;}#sk-container-id-4 input.sk-hidden--visually {border: 0;clip: rect(1px 1px 1px 1px);clip: rect(1px, 1px, 1px, 1px);height: 1px;margin: -1px;overflow: hidden;padding: 0;position: absolute;width: 1px;}#sk-container-id-4 div.sk-estimator {font-family: monospace;background-color: #f0f8ff;border: 1px dotted black;border-radius: 0.25em;box-sizing: border-box;margin-bottom: 0.5em;}#sk-container-id-4 div.sk-estimator:hover {background-color: #d4ebff;}#sk-container-id-4 div.sk-parallel-item::after {content: \"\";width: 100%;border-bottom: 1px solid gray;flex-grow: 1;}#sk-container-id-4 div.sk-label:hover label.sk-toggleable__label {background-color: #d4ebff;}#sk-container-id-4 div.sk-serial::before {content: \"\";position: absolute;border-left: 1px solid gray;box-sizing: border-box;top: 0;bottom: 0;left: 50%;z-index: 0;}#sk-container-id-4 div.sk-serial {display: flex;flex-direction: column;align-items: center;background-color: white;padding-right: 0.2em;padding-left: 0.2em;position: relative;}#sk-container-id-4 div.sk-item {position: relative;z-index: 1;}#sk-container-id-4 div.sk-parallel {display: flex;align-items: stretch;justify-content: center;background-color: white;position: relative;}#sk-container-id-4 div.sk-item::before, #sk-container-id-4 div.sk-parallel-item::before {content: \"\";position: absolute;border-left: 1px solid gray;box-sizing: border-box;top: 0;bottom: 0;left: 50%;z-index: -1;}#sk-container-id-4 div.sk-parallel-item {display: flex;flex-direction: column;z-index: 1;position: relative;background-color: white;}#sk-container-id-4 div.sk-parallel-item:first-child::after {align-self: flex-end;width: 50%;}#sk-container-id-4 div.sk-parallel-item:last-child::after {align-self: flex-start;width: 50%;}#sk-container-id-4 div.sk-parallel-item:only-child::after {width: 0;}#sk-container-id-4 div.sk-dashed-wrapped {border: 1px dashed gray;margin: 0 0.4em 0.5em 0.4em;box-sizing: border-box;padding-bottom: 0.4em;background-color: white;}#sk-container-id-4 div.sk-label label {font-family: monospace;font-weight: bold;display: inline-block;line-height: 1.2em;}#sk-container-id-4 div.sk-label-container {text-align: center;}#sk-container-id-4 div.sk-container {/* jupyter's `normalize.less` sets `[hidden] { display: none; }` but bootstrap.min.css set `[hidden] { display: none !important; }` so we also need the `!important` here to be able to override the default hidden behavior on the sphinx rendered scikit-learn.org. See: https://github.com/scikit-learn/scikit-learn/issues/21755 */display: inline-block !important;position: relative;}#sk-container-id-4 div.sk-text-repr-fallback {display: none;}</style><div id=\"sk-container-id-4\" class=\"sk-top-container\"><div class=\"sk-text-repr-fallback\"><pre>Pipeline(steps=[(&#x27;mapper&#x27;,\n",
              "                 DataFrameMapper(drop_cols=[],\n",
              "                                 features=[([&#x27;p1_seed&#x27;], [StandardScaler()]),\n",
              "                                           ([&#x27;p2_seed&#x27;], [StandardScaler()]),\n",
              "                                           ([&#x27;p1_rank&#x27;], [StandardScaler()]),\n",
              "                                           ([&#x27;p2_rank&#x27;], [StandardScaler()]),\n",
              "                                           ([&#x27;surface&#x27;], [OneHotEncoder()]),\n",
              "                                           ([&#x27;best_of&#x27;], [OneHotEncoder()]),\n",
              "                                           ([&#x27;p1_ht&#x27;], [StandardScaler()]),\n",
              "                                           ([&#x27;p2_ht&#x27;], [StandardScaler()]),\n",
              "                                           ([&#x27;p1_age&#x27;], [StandardScaler()]),\n",
              "                                           ([&#x27;p2_age&#x27;], [StandardScaler()]),\n",
              "                                           ([&#x27;p1_hand&#x27;], [OneHotEncoder()]),\n",
              "                                           ([&#x27;p2_hand&#x27;], [OneHotEncoder()])])),\n",
              "                (&#x27;pca&#x27;, PCA(n_components=1)),\n",
              "                (&#x27;classifier&#x27;,\n",
              "                 GridSearchCV(cv=5, estimator=KNeighborsClassifier(),\n",
              "                              param_grid={&#x27;n_neighbors&#x27;: [5, 10, 15],\n",
              "                                          &#x27;weights&#x27;: [&#x27;uniform&#x27;, &#x27;distance&#x27;]},\n",
              "                              scoring=&#x27;accuracy&#x27;))])</pre><b>In a Jupyter environment, please rerun this cell to show the HTML representation or trust the notebook. <br />On GitHub, the HTML representation is unable to render, please try loading this page with nbviewer.org.</b></div><div class=\"sk-container\" hidden><div class=\"sk-item sk-dashed-wrapped\"><div class=\"sk-label-container\"><div class=\"sk-label sk-toggleable\"><input class=\"sk-toggleable__control sk-hidden--visually\" id=\"sk-estimator-id-9\" type=\"checkbox\" ><label for=\"sk-estimator-id-9\" class=\"sk-toggleable__label sk-toggleable__label-arrow\">Pipeline</label><div class=\"sk-toggleable__content\"><pre>Pipeline(steps=[(&#x27;mapper&#x27;,\n",
              "                 DataFrameMapper(drop_cols=[],\n",
              "                                 features=[([&#x27;p1_seed&#x27;], [StandardScaler()]),\n",
              "                                           ([&#x27;p2_seed&#x27;], [StandardScaler()]),\n",
              "                                           ([&#x27;p1_rank&#x27;], [StandardScaler()]),\n",
              "                                           ([&#x27;p2_rank&#x27;], [StandardScaler()]),\n",
              "                                           ([&#x27;surface&#x27;], [OneHotEncoder()]),\n",
              "                                           ([&#x27;best_of&#x27;], [OneHotEncoder()]),\n",
              "                                           ([&#x27;p1_ht&#x27;], [StandardScaler()]),\n",
              "                                           ([&#x27;p2_ht&#x27;], [StandardScaler()]),\n",
              "                                           ([&#x27;p1_age&#x27;], [StandardScaler()]),\n",
              "                                           ([&#x27;p2_age&#x27;], [StandardScaler()]),\n",
              "                                           ([&#x27;p1_hand&#x27;], [OneHotEncoder()]),\n",
              "                                           ([&#x27;p2_hand&#x27;], [OneHotEncoder()])])),\n",
              "                (&#x27;pca&#x27;, PCA(n_components=1)),\n",
              "                (&#x27;classifier&#x27;,\n",
              "                 GridSearchCV(cv=5, estimator=KNeighborsClassifier(),\n",
              "                              param_grid={&#x27;n_neighbors&#x27;: [5, 10, 15],\n",
              "                                          &#x27;weights&#x27;: [&#x27;uniform&#x27;, &#x27;distance&#x27;]},\n",
              "                              scoring=&#x27;accuracy&#x27;))])</pre></div></div></div><div class=\"sk-serial\"><div class=\"sk-item\"><div class=\"sk-estimator sk-toggleable\"><input class=\"sk-toggleable__control sk-hidden--visually\" id=\"sk-estimator-id-10\" type=\"checkbox\" ><label for=\"sk-estimator-id-10\" class=\"sk-toggleable__label sk-toggleable__label-arrow\">DataFrameMapper</label><div class=\"sk-toggleable__content\"><pre>DataFrameMapper(drop_cols=[],\n",
              "                features=[([&#x27;p1_seed&#x27;], [StandardScaler()]),\n",
              "                          ([&#x27;p2_seed&#x27;], [StandardScaler()]),\n",
              "                          ([&#x27;p1_rank&#x27;], [StandardScaler()]),\n",
              "                          ([&#x27;p2_rank&#x27;], [StandardScaler()]),\n",
              "                          ([&#x27;surface&#x27;], [OneHotEncoder()]),\n",
              "                          ([&#x27;best_of&#x27;], [OneHotEncoder()]),\n",
              "                          ([&#x27;p1_ht&#x27;], [StandardScaler()]),\n",
              "                          ([&#x27;p2_ht&#x27;], [StandardScaler()]),\n",
              "                          ([&#x27;p1_age&#x27;], [StandardScaler()]),\n",
              "                          ([&#x27;p2_age&#x27;], [StandardScaler()]),\n",
              "                          ([&#x27;p1_hand&#x27;], [OneHotEncoder()]),\n",
              "                          ([&#x27;p2_hand&#x27;], [OneHotEncoder()])])</pre></div></div></div><div class=\"sk-item\"><div class=\"sk-estimator sk-toggleable\"><input class=\"sk-toggleable__control sk-hidden--visually\" id=\"sk-estimator-id-11\" type=\"checkbox\" ><label for=\"sk-estimator-id-11\" class=\"sk-toggleable__label sk-toggleable__label-arrow\">PCA</label><div class=\"sk-toggleable__content\"><pre>PCA(n_components=1)</pre></div></div></div><div class=\"sk-item sk-dashed-wrapped\"><div class=\"sk-label-container\"><div class=\"sk-label sk-toggleable\"><input class=\"sk-toggleable__control sk-hidden--visually\" id=\"sk-estimator-id-12\" type=\"checkbox\" ><label for=\"sk-estimator-id-12\" class=\"sk-toggleable__label sk-toggleable__label-arrow\">classifier: GridSearchCV</label><div class=\"sk-toggleable__content\"><pre>GridSearchCV(cv=5, estimator=KNeighborsClassifier(),\n",
              "             param_grid={&#x27;n_neighbors&#x27;: [5, 10, 15],\n",
              "                         &#x27;weights&#x27;: [&#x27;uniform&#x27;, &#x27;distance&#x27;]},\n",
              "             scoring=&#x27;accuracy&#x27;)</pre></div></div></div><div class=\"sk-parallel\"><div class=\"sk-parallel-item\"><div class=\"sk-item\"><div class=\"sk-label-container\"><div class=\"sk-label sk-toggleable\"><input class=\"sk-toggleable__control sk-hidden--visually\" id=\"sk-estimator-id-13\" type=\"checkbox\" ><label for=\"sk-estimator-id-13\" class=\"sk-toggleable__label sk-toggleable__label-arrow\">estimator: KNeighborsClassifier</label><div class=\"sk-toggleable__content\"><pre>KNeighborsClassifier()</pre></div></div></div><div class=\"sk-serial\"><div class=\"sk-item\"><div class=\"sk-estimator sk-toggleable\"><input class=\"sk-toggleable__control sk-hidden--visually\" id=\"sk-estimator-id-14\" type=\"checkbox\" ><label for=\"sk-estimator-id-14\" class=\"sk-toggleable__label sk-toggleable__label-arrow\">KNeighborsClassifier</label><div class=\"sk-toggleable__content\"><pre>KNeighborsClassifier()</pre></div></div></div></div></div></div></div></div></div></div></div></div>"
            ]
          },
          "metadata": {},
          "execution_count": 35
        }
      ]
    },
    {
      "cell_type": "code",
      "source": [
        "transformed_data = modelo_pca_kkn.named_steps['mapper'].transform(train)\n",
        "dimensiones = transformed_data.shape[1]\n",
        "print(\"Dimensiones:\", dimensiones)\n",
        "print(\"Validacion cruzada:\", clasif.best_score_)\n",
        "print(\"Mejores Hiperparametros:\", clasif.best_params_)\n",
        "\n",
        "evaluate_model(modelo_pca_kkn , title='KKN', show_cm=True)"
      ],
      "metadata": {
        "id": "BrqDmXHKNPOW",
        "colab": {
          "base_uri": "https://localhost:8080/",
          "height": 1000
        },
        "outputId": "7dd76ac7-c9cd-4f22-bad8-3e054d88d245"
      },
      "execution_count": 36,
      "outputs": [
        {
          "output_type": "stream",
          "name": "stdout",
          "text": [
            "Dimensiones: 18\n",
            "Validacion cruzada: 0.502559955280317\n",
            "Mejores Hiperparametros: {'n_neighbors': 5, 'weights': 'uniform'}\n"
          ]
        },
        {
          "output_type": "display_data",
          "data": {
            "text/plain": [
              "'KKN'"
            ],
            "application/vnd.google.colaboratory.intrinsic+json": {
              "type": "string"
            }
          },
          "metadata": {}
        },
        {
          "output_type": "display_data",
          "data": {
            "text/plain": [
              "            Accuracy\n",
              "train       0.688805\n",
              "validation  0.501920"
            ],
            "text/html": [
              "\n",
              "  <div id=\"df-d8cc376d-85f4-40ff-834d-6442dc6c152a\">\n",
              "    <div class=\"colab-df-container\">\n",
              "      <div>\n",
              "<style scoped>\n",
              "    .dataframe tbody tr th:only-of-type {\n",
              "        vertical-align: middle;\n",
              "    }\n",
              "\n",
              "    .dataframe tbody tr th {\n",
              "        vertical-align: top;\n",
              "    }\n",
              "\n",
              "    .dataframe thead th {\n",
              "        text-align: right;\n",
              "    }\n",
              "</style>\n",
              "<table border=\"1\" class=\"dataframe\">\n",
              "  <thead>\n",
              "    <tr style=\"text-align: right;\">\n",
              "      <th></th>\n",
              "      <th>Accuracy</th>\n",
              "    </tr>\n",
              "  </thead>\n",
              "  <tbody>\n",
              "    <tr>\n",
              "      <th>train</th>\n",
              "      <td>0.688805</td>\n",
              "    </tr>\n",
              "    <tr>\n",
              "      <th>validation</th>\n",
              "      <td>0.501920</td>\n",
              "    </tr>\n",
              "  </tbody>\n",
              "</table>\n",
              "</div>\n",
              "      <button class=\"colab-df-convert\" onclick=\"convertToInteractive('df-d8cc376d-85f4-40ff-834d-6442dc6c152a')\"\n",
              "              title=\"Convert this dataframe to an interactive table.\"\n",
              "              style=\"display:none;\">\n",
              "        \n",
              "  <svg xmlns=\"http://www.w3.org/2000/svg\" height=\"24px\"viewBox=\"0 0 24 24\"\n",
              "       width=\"24px\">\n",
              "    <path d=\"M0 0h24v24H0V0z\" fill=\"none\"/>\n",
              "    <path d=\"M18.56 5.44l.94 2.06.94-2.06 2.06-.94-2.06-.94-.94-2.06-.94 2.06-2.06.94zm-11 1L8.5 8.5l.94-2.06 2.06-.94-2.06-.94L8.5 2.5l-.94 2.06-2.06.94zm10 10l.94 2.06.94-2.06 2.06-.94-2.06-.94-.94-2.06-.94 2.06-2.06.94z\"/><path d=\"M17.41 7.96l-1.37-1.37c-.4-.4-.92-.59-1.43-.59-.52 0-1.04.2-1.43.59L10.3 9.45l-7.72 7.72c-.78.78-.78 2.05 0 2.83L4 21.41c.39.39.9.59 1.41.59.51 0 1.02-.2 1.41-.59l7.78-7.78 2.81-2.81c.8-.78.8-2.07 0-2.86zM5.41 20L4 18.59l7.72-7.72 1.47 1.35L5.41 20z\"/>\n",
              "  </svg>\n",
              "      </button>\n",
              "      \n",
              "  <style>\n",
              "    .colab-df-container {\n",
              "      display:flex;\n",
              "      flex-wrap:wrap;\n",
              "      gap: 12px;\n",
              "    }\n",
              "\n",
              "    .colab-df-convert {\n",
              "      background-color: #E8F0FE;\n",
              "      border: none;\n",
              "      border-radius: 50%;\n",
              "      cursor: pointer;\n",
              "      display: none;\n",
              "      fill: #1967D2;\n",
              "      height: 32px;\n",
              "      padding: 0 0 0 0;\n",
              "      width: 32px;\n",
              "    }\n",
              "\n",
              "    .colab-df-convert:hover {\n",
              "      background-color: #E2EBFA;\n",
              "      box-shadow: 0px 1px 2px rgba(60, 64, 67, 0.3), 0px 1px 3px 1px rgba(60, 64, 67, 0.15);\n",
              "      fill: #174EA6;\n",
              "    }\n",
              "\n",
              "    [theme=dark] .colab-df-convert {\n",
              "      background-color: #3B4455;\n",
              "      fill: #D2E3FC;\n",
              "    }\n",
              "\n",
              "    [theme=dark] .colab-df-convert:hover {\n",
              "      background-color: #434B5C;\n",
              "      box-shadow: 0px 1px 3px 1px rgba(0, 0, 0, 0.15);\n",
              "      filter: drop-shadow(0px 1px 2px rgba(0, 0, 0, 0.3));\n",
              "      fill: #FFFFFF;\n",
              "    }\n",
              "  </style>\n",
              "\n",
              "      <script>\n",
              "        const buttonEl =\n",
              "          document.querySelector('#df-d8cc376d-85f4-40ff-834d-6442dc6c152a button.colab-df-convert');\n",
              "        buttonEl.style.display =\n",
              "          google.colab.kernel.accessAllowed ? 'block' : 'none';\n",
              "\n",
              "        async function convertToInteractive(key) {\n",
              "          const element = document.querySelector('#df-d8cc376d-85f4-40ff-834d-6442dc6c152a');\n",
              "          const dataTable =\n",
              "            await google.colab.kernel.invokeFunction('convertToInteractive',\n",
              "                                                     [key], {});\n",
              "          if (!dataTable) return;\n",
              "\n",
              "          const docLinkHtml = 'Like what you see? Visit the ' +\n",
              "            '<a target=\"_blank\" href=https://colab.research.google.com/notebooks/data_table.ipynb>data table notebook</a>'\n",
              "            + ' to learn more about interactive tables.';\n",
              "          element.innerHTML = '';\n",
              "          dataTable['output_type'] = 'display_data';\n",
              "          await google.colab.output.renderOutput(dataTable, element);\n",
              "          const docLink = document.createElement('div');\n",
              "          docLink.innerHTML = docLinkHtml;\n",
              "          element.appendChild(docLink);\n",
              "        }\n",
              "      </script>\n",
              "    </div>\n",
              "  </div>\n",
              "  "
            ]
          },
          "metadata": {}
        },
        {
          "output_type": "display_data",
          "data": {
            "text/plain": [
              "<Figure size 640x480 with 2 Axes>"
            ],
            "image/png": "[encoded data removed]"
          },
          "metadata": {}
        },
        {
          "output_type": "display_data",
          "data": {
            "text/plain": [
              "<Figure size 640x480 with 2 Axes>"
            ],
            "image/png": "[encoded data removed]"
          },
          "metadata": {}
        }
      ]
    },
    {
      "cell_type": "markdown",
      "source": [
        "* Podemos observar que el valor de accuracy en este caso es del 68% para el conjunto de datos train, por lo que la metrica no se ve beneficiada luego de utilizar PCA comparado con el modelo que utiliza KNN con hiper parametros, ya que ahi encontramos la mejora accuracy."
      ],
      "metadata": {
        "id": "gdV05YROmrn8"
      }
    },
    {
      "cell_type": "markdown",
      "source": [
        "# Random Forest con PCA\n"
      ],
      "metadata": {
        "id": "5JpOhS_yoTU8"
      }
    },
    {
      "cell_type": "code",
      "source": [
        "param_grid = {'n_estimators': [50, 100, 150], 'max_depth': [None, 3, 6]}\n",
        "\n",
        "pca = PCA(n_components=d)\n",
        "\n",
        "clf = GridSearchCV(RandomForestClassifier(random_state=42), param_grid, cv=5, scoring='accuracy')\n",
        "\n",
        "modelo_pca_rf = Pipeline([\n",
        "    ('mapper', mapper),\n",
        "    ('pca', pca),\n",
        "    ('classifier', clf)\n",
        "])\n",
        "\n",
        "modelo_pca_rf.fit(train, train.winner)\n"
      ],
      "metadata": {
        "id": "AD4T_fDFT9We"
      },
      "execution_count": null,
      "outputs": []
    },
    {
      "cell_type": "code",
      "source": [
        "transformed_data = modelo_pca_rf.named_steps['mapper'].transform(train)\n",
        "dimensiones = transformed_data.shape[1]\n",
        "print(\"Dimensiones:\", dimensiones)\n",
        "print(\"Validacion cruzada:\", modelo_pca_rf.best_score_)\n",
        "print(\"Mejores Hiperparametros:\", modelo_pca_rf.best_params_)\n",
        "\n",
        "evaluate_model(modelo_pca_rf, title='Random Forest', show_cm=True)\n"
      ],
      "metadata": {
        "id": "4YA5k2clUSzQ"
      },
      "execution_count": null,
      "outputs": []
    },
    {
      "cell_type": "markdown",
      "source": [
        "# Técnicas para evitar el sobreentrenamiento\n",
        "\n",
        "* Empleamos estrategias de división de datos, validación cruzada y reducción de dimensionalidad para mejorar la capacidad de generalización y rendimiento de los modelos. \n",
        "* Estas técnicas ayudaron a seleccionar las mejores configuraciones y características relevantes, evitando problemas como el sobreajuste y mejorando la eficiencia del modelo."
      ],
      "metadata": {
        "id": "Hr_mJtTHcxw4"
      }
    },
    {
      "cell_type": "markdown",
      "source": [
        "# Modelo elegido\n",
        "\n",
        "* El modelo que mejor acertó el ganador es el Random Forest, en un 99,9% de los casos acertaba. Por lo que definimos que es el mejor para utilizar ya que los resultados que podemos ver son mejores comparando los demas modelos que entrenamos. "
      ],
      "metadata": {
        "id": "a9APRUngeJOc"
      }
    },
    {
      "cell_type": "code",
      "source": [
        "# # Árboles de Decisión\n",
        "# param_grid_dt = {\n",
        "#     'max_depth': [None, 5, 10, 15],\n",
        "#     'min_samples_split': [2, 5, 10],\n",
        "#     'min_samples_leaf': [1, 2, 4]\n",
        "# }\n",
        "\n",
        "# # Regresión Logística\n",
        "# param_grid_lr = {\n",
        "#     'C': [0.1, 1.0, 10.0],\n",
        "#     'penalty': ['l1', 'l2'],\n",
        "#     'tol': [0.001, 0.01, 0.1]\n",
        "# }\n",
        "\n",
        "# # Random Forest\n",
        "# param_grid_rf = {\n",
        "#     'n_estimators': [100, 200, 300],\n",
        "#     'max_depth': [None, 5, 10],\n",
        "#     'min_samples_split': [2, 5, 10]\n",
        "# }\n",
        "\n",
        "\n",
        "# le = LabelEncoder()\n",
        "# train['winner'] = le.fit_transform(train['winner'])\n",
        "\n",
        "# # Árboles de Decisión\n",
        "# dt_model = DecisionTreeClassifier()\n",
        "# dt_grid_search = GridSearchCV(dt_model, param_grid_dt, cv=5)\n",
        "\n",
        "# # Regresión Logística\n",
        "# lr_model = LogisticRegression()\n",
        "# lr_grid_search = GridSearchCV(lr_model, param_grid_lr, cv=5)\n",
        "\n",
        "# # Random Forest\n",
        "# rf_model = RandomForestClassifier()\n",
        "# rf_grid_search = GridSearchCV(rf_model, param_grid_rf, cv=5)\n",
        "\n",
        "# train = train.astype(str)\n",
        "# train['winner'] = train['winner'].astype(str)\n",
        "\n",
        "# train.columns = train.columns.astype(str)\n",
        "# error_score='raise'\n",
        "\n",
        "# # Árboles de Decisión\n",
        "# dt_grid_search.fit(train, train['winner'])\n",
        "\n",
        "# # Regresión Logística\n",
        "# lr_grid_search.fit(train, train['winner'])\n",
        "# # Random Forest\n",
        "# #rf_grid_search.fit(train, train['winner'])\n",
        "\n",
        "# # Árboles de Decisión\n",
        "# best_params_dt = dt_grid_search.best_params_\n",
        "# best_model_dt = dt_grid_search.best_estimator_\n",
        "\n",
        "# # Regresión Logística\n",
        "# best_params_lr = lr_grid_search.best_params_\n",
        "# best_model_lr = lr_grid_search.best_estimator_\n",
        "\n",
        "# # Random Forest\n",
        "# #best_params_rf = rf_grid_search.best_params_\n",
        "# #best_model_rf = rf_grid_search.best_estimator_\n"
      ],
      "metadata": {
        "id": "WPwrVtmMhKDi"
      },
      "execution_count": null,
      "outputs": []
    },
    {
      "cell_type": "markdown",
      "source": [],
      "metadata": {
        "id": "3gByYNUAntTY"
      }
    },
    {
      "cell_type": "code",
      "source": [
        "from sklearn.decomposition import PCA\n",
        "X = np.array([[-1, -1], [-2, -1], [-3, -2], [1, 1], [2, 1], [3, 2]])\n",
        "pca = PCA(n_components=2)\n",
        "pca.fit(X)\n",
        "print(\"Importancias de las nuevas dimensiones:\", pca.explained_variance_ratio_)  \n",
        "nX = pca.transform(X)"
      ],
      "metadata": {
        "id": "-sogNltGRZHo"
      },
      "execution_count": null,
      "outputs": []
    },
    {
      "cell_type": "code",
      "source": [
        "# train.columns = train.columns.astype(str)\n",
        "# train = train.astype(str)\n",
        "# print (matches.info())\n"
      ],
      "metadata": {
        "id": "LSdukd2-RZHq"
      },
      "execution_count": null,
      "outputs": []
    },
    {
      "cell_type": "code",
      "source": [
        "# # Árboles de Decisión\n",
        "# param_grid_dt = {\n",
        "#     'max_depth': [None, 5, 10, 15],\n",
        "#     'min_samples_split': [2, 5, 10],\n",
        "#     'min_samples_leaf': [1, 2, 4]\n",
        "# }\n",
        "\n",
        "# # Regresión Logística\n",
        "# param_grid_lr = {\n",
        "#     'C': [0.1, 1.0, 10.0],\n",
        "#     'penalty': ['l1', 'l2'],\n",
        "#     'tol': [0.001, 0.01, 0.1]\n",
        "# }\n",
        "\n",
        "# # Random Forest\n",
        "# param_grid_rf = {\n",
        "#     'n_estimators': [100, 200, 300],\n",
        "#     'max_depth': [None, 5, 10],\n",
        "#     'min_samples_split': [2, 5, 10]\n",
        "# }\n",
        "\n",
        "\n",
        "# le = LabelEncoder()\n",
        "# train['winner'] = le.fit_transform(train['winner'])\n",
        "\n",
        "# # Árboles de Decisión\n",
        "# dt_model = DecisionTreeClassifier()\n",
        "# dt_grid_search = GridSearchCV(dt_model, param_grid_dt, cv=5)\n",
        "\n",
        "# # Regresión Logística\n",
        "# lr_model = LogisticRegression()\n",
        "# lr_grid_search = GridSearchCV(lr_model, param_grid_lr, cv=5)\n",
        "\n",
        "# # Random Forest\n",
        "# rf_model = RandomForestClassifier()\n",
        "# rf_grid_search = GridSearchCV(rf_model, param_grid_rf, cv=5)\n",
        "\n",
        "# train = train.astype(str)\n",
        "# train['winner'] = train['winner'].astype(str)\n",
        "\n",
        "# train.columns = train.columns.astype(str)\n",
        "# error_score='raise'\n",
        "\n",
        "# # Árboles de Decisión\n",
        "# dt_grid_search.fit(train, train['winner'])\n",
        "\n",
        "# # Regresión Logística\n",
        "# lr_grid_search.fit(train, train['winner'])\n",
        "# # Random Forest\n",
        "# #rf_grid_search.fit(train, train['winner'])\n",
        "\n",
        "# # Árboles de Decisión\n",
        "# best_params_dt = dt_grid_search.best_params_\n",
        "# best_model_dt = dt_grid_search.best_estimator_\n",
        "\n",
        "# # Regresión Logística\n",
        "# best_params_lr = lr_grid_search.best_params_\n",
        "# best_model_lr = lr_grid_search.best_estimator_\n",
        "\n",
        "# # Random Forest\n",
        "# #best_params_rf = rf_grid_search.best_params_\n",
        "# #best_model_rf = rf_grid_search.best_estimator_\n"
      ],
      "metadata": {
        "id": "b0sRLzGORZHr"
      },
      "execution_count": null,
      "outputs": []
    },
    {
      "cell_type": "markdown",
      "source": [],
      "metadata": {
        "id": "THUrQaglRZHs"
      }
    }
  ]
}